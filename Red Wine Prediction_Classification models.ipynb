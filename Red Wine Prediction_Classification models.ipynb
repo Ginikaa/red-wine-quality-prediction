{
  "nbformat": 4,
  "nbformat_minor": 0,
  "metadata": {
    "colab": {
      "provenance": [],
      "toc_visible": true
    },
    "kernelspec": {
      "name": "python3",
      "display_name": "Python 3"
    },
    "language_info": {
      "name": "python"
    }
  },
  "cells": [
    {
      "cell_type": "code",
      "execution_count": null,
      "metadata": {
        "id": "zEaQ55YnUTHt"
      },
      "outputs": [],
      "source": [
        "import numpy as np\n",
        "import pandas as pd\n",
        "import matplotlib.pyplot as plt\n",
        "import seaborn as sn\n",
        "from sklearn import svm\n",
        "from sklearn.preprocessing import StandardScaler\n",
        "from sklearn.linear_model import LogisticRegression\n",
        "from sklearn.metrics import f1_score, accuracy_score, roc_curve, precision_recall_curve, PrecisionRecallDisplay, roc_auc_score, RocCurveDisplay, confusion_matrix, precision_score, recall_score, ConfusionMatrixDisplay\n",
        "from sklearn.model_selection import train_test_split,RandomizedSearchCV\n",
        "from sklearn.svm import SVC\n",
        "from sklearn.model_selection import GridSearchCV\n",
        "from sklearn.neural_network import MLPClassifier\n",
        "from sklearn.neighbors import KNeighborsClassifier\n",
        "from sklearn.ensemble import RandomForestClassifier\n",
        "from sklearn.naive_bayes import GaussianNB\n",
        "from sklearn.linear_model import BayesianRidge\n",
        "import time\n",
        "from random import randint\n",
        "from sklearn.model_selection import cross_val_predict\n",
        "from sklearn.metrics import classification_report\n",
        "from sklearn.naive_bayes import BernoulliNB\n",
        "from imblearn.over_sampling import SMOTE\n",
        "import collections\n",
        "from imblearn.under_sampling import RandomUnderSampler\n"
      ]
    },
    {
      "cell_type": "code",
      "source": [
        "!pip install https://github.com/JamesRitchie/scikit-rvm/archive/master.zip\n",
        "from skrvm import RVR,RVC"
      ],
      "metadata": {
        "colab": {
          "base_uri": "https://localhost:8080/"
        },
        "id": "yC6zl21Cv0pZ",
        "outputId": "17c910ca-20db-41be-cda1-bda908eaaadc"
      },
      "execution_count": null,
      "outputs": [
        {
          "output_type": "stream",
          "name": "stdout",
          "text": [
            "Collecting https://github.com/JamesRitchie/scikit-rvm/archive/master.zip\n",
            "  Downloading https://github.com/JamesRitchie/scikit-rvm/archive/master.zip\n",
            "\u001b[2K     \u001b[32m-\u001b[0m \u001b[32m10.8 kB\u001b[0m \u001b[31m46.8 MB/s\u001b[0m \u001b[33m0:00:00\u001b[0m\n",
            "\u001b[?25h  Preparing metadata (setup.py) ... \u001b[?25l\u001b[?25hdone\n",
            "Requirement already satisfied: numpy>=1.9.2 in /usr/local/lib/python3.10/dist-packages (from scikit-rvm==0.1.0a1) (1.25.2)\n",
            "Requirement already satisfied: scipy>=0.15.1 in /usr/local/lib/python3.10/dist-packages (from scikit-rvm==0.1.0a1) (1.11.4)\n",
            "Requirement already satisfied: scikit-learn>=0.16.1 in /usr/local/lib/python3.10/dist-packages (from scikit-rvm==0.1.0a1) (1.2.2)\n",
            "Requirement already satisfied: joblib>=1.1.1 in /usr/local/lib/python3.10/dist-packages (from scikit-learn>=0.16.1->scikit-rvm==0.1.0a1) (1.3.2)\n",
            "Requirement already satisfied: threadpoolctl>=2.0.0 in /usr/local/lib/python3.10/dist-packages (from scikit-learn>=0.16.1->scikit-rvm==0.1.0a1) (3.3.0)\n",
            "Building wheels for collected packages: scikit-rvm\n",
            "  Building wheel for scikit-rvm (setup.py) ... \u001b[?25l\u001b[?25hdone\n",
            "  Created wheel for scikit-rvm: filename=scikit_rvm-0.1.0a1-py3-none-any.whl size=4219 sha256=838624475ed72dc2d96d1f47b2884340a7fb50953063410f2d71dda46da19df8\n",
            "  Stored in directory: /tmp/pip-ephem-wheel-cache-t5ew0gn1/wheels/38/97/92/d2154117423998a97dee555851d446e94a40de60cb42351729\n",
            "Successfully built scikit-rvm\n",
            "Installing collected packages: scikit-rvm\n",
            "Successfully installed scikit-rvm-0.1.0a1\n"
          ]
        }
      ]
    },
    {
      "cell_type": "code",
      "source": [
        "# read data\n",
        "df = pd.read_csv('winequality-red.csv')"
      ],
      "metadata": {
        "id": "yPX8efpoU2UB"
      },
      "execution_count": null,
      "outputs": []
    },
    {
      "cell_type": "code",
      "source": [
        "df.head()"
      ],
      "metadata": {
        "colab": {
          "base_uri": "https://localhost:8080/",
          "height": 261
        },
        "id": "3BRXjmQ3U9n9",
        "outputId": "763c1b79-d44e-46e3-d473-6089d8f3fc11"
      },
      "execution_count": null,
      "outputs": [
        {
          "output_type": "execute_result",
          "data": {
            "text/plain": [
              "   fixed acidity  volatile acidity  citric acid  residual sugar  chlorides  \\\n",
              "0            7.4              0.70         0.00             1.9      0.076   \n",
              "1            7.8              0.88         0.00             2.6      0.098   \n",
              "2            7.8              0.76         0.04             2.3      0.092   \n",
              "3           11.2              0.28         0.56             1.9      0.075   \n",
              "4            7.4              0.70         0.00             1.9      0.076   \n",
              "\n",
              "   free sulfur dioxide  total sulfur dioxide  density    pH  sulphates  \\\n",
              "0                 11.0                  34.0   0.9978  3.51       0.56   \n",
              "1                 25.0                  67.0   0.9968  3.20       0.68   \n",
              "2                 15.0                  54.0   0.9970  3.26       0.65   \n",
              "3                 17.0                  60.0   0.9980  3.16       0.58   \n",
              "4                 11.0                  34.0   0.9978  3.51       0.56   \n",
              "\n",
              "   alcohol  quality  \n",
              "0      9.4        5  \n",
              "1      9.8        5  \n",
              "2      9.8        5  \n",
              "3      9.8        6  \n",
              "4      9.4        5  "
            ],
            "text/html": [
              "\n",
              "  <div id=\"df-75ead03d-30c5-432b-8659-5552f406536d\" class=\"colab-df-container\">\n",
              "    <div>\n",
              "<style scoped>\n",
              "    .dataframe tbody tr th:only-of-type {\n",
              "        vertical-align: middle;\n",
              "    }\n",
              "\n",
              "    .dataframe tbody tr th {\n",
              "        vertical-align: top;\n",
              "    }\n",
              "\n",
              "    .dataframe thead th {\n",
              "        text-align: right;\n",
              "    }\n",
              "</style>\n",
              "<table border=\"1\" class=\"dataframe\">\n",
              "  <thead>\n",
              "    <tr style=\"text-align: right;\">\n",
              "      <th></th>\n",
              "      <th>fixed acidity</th>\n",
              "      <th>volatile acidity</th>\n",
              "      <th>citric acid</th>\n",
              "      <th>residual sugar</th>\n",
              "      <th>chlorides</th>\n",
              "      <th>free sulfur dioxide</th>\n",
              "      <th>total sulfur dioxide</th>\n",
              "      <th>density</th>\n",
              "      <th>pH</th>\n",
              "      <th>sulphates</th>\n",
              "      <th>alcohol</th>\n",
              "      <th>quality</th>\n",
              "    </tr>\n",
              "  </thead>\n",
              "  <tbody>\n",
              "    <tr>\n",
              "      <th>0</th>\n",
              "      <td>7.4</td>\n",
              "      <td>0.70</td>\n",
              "      <td>0.00</td>\n",
              "      <td>1.9</td>\n",
              "      <td>0.076</td>\n",
              "      <td>11.0</td>\n",
              "      <td>34.0</td>\n",
              "      <td>0.9978</td>\n",
              "      <td>3.51</td>\n",
              "      <td>0.56</td>\n",
              "      <td>9.4</td>\n",
              "      <td>5</td>\n",
              "    </tr>\n",
              "    <tr>\n",
              "      <th>1</th>\n",
              "      <td>7.8</td>\n",
              "      <td>0.88</td>\n",
              "      <td>0.00</td>\n",
              "      <td>2.6</td>\n",
              "      <td>0.098</td>\n",
              "      <td>25.0</td>\n",
              "      <td>67.0</td>\n",
              "      <td>0.9968</td>\n",
              "      <td>3.20</td>\n",
              "      <td>0.68</td>\n",
              "      <td>9.8</td>\n",
              "      <td>5</td>\n",
              "    </tr>\n",
              "    <tr>\n",
              "      <th>2</th>\n",
              "      <td>7.8</td>\n",
              "      <td>0.76</td>\n",
              "      <td>0.04</td>\n",
              "      <td>2.3</td>\n",
              "      <td>0.092</td>\n",
              "      <td>15.0</td>\n",
              "      <td>54.0</td>\n",
              "      <td>0.9970</td>\n",
              "      <td>3.26</td>\n",
              "      <td>0.65</td>\n",
              "      <td>9.8</td>\n",
              "      <td>5</td>\n",
              "    </tr>\n",
              "    <tr>\n",
              "      <th>3</th>\n",
              "      <td>11.2</td>\n",
              "      <td>0.28</td>\n",
              "      <td>0.56</td>\n",
              "      <td>1.9</td>\n",
              "      <td>0.075</td>\n",
              "      <td>17.0</td>\n",
              "      <td>60.0</td>\n",
              "      <td>0.9980</td>\n",
              "      <td>3.16</td>\n",
              "      <td>0.58</td>\n",
              "      <td>9.8</td>\n",
              "      <td>6</td>\n",
              "    </tr>\n",
              "    <tr>\n",
              "      <th>4</th>\n",
              "      <td>7.4</td>\n",
              "      <td>0.70</td>\n",
              "      <td>0.00</td>\n",
              "      <td>1.9</td>\n",
              "      <td>0.076</td>\n",
              "      <td>11.0</td>\n",
              "      <td>34.0</td>\n",
              "      <td>0.9978</td>\n",
              "      <td>3.51</td>\n",
              "      <td>0.56</td>\n",
              "      <td>9.4</td>\n",
              "      <td>5</td>\n",
              "    </tr>\n",
              "  </tbody>\n",
              "</table>\n",
              "</div>\n",
              "    <div class=\"colab-df-buttons\">\n",
              "\n",
              "  <div class=\"colab-df-container\">\n",
              "    <button class=\"colab-df-convert\" onclick=\"convertToInteractive('df-75ead03d-30c5-432b-8659-5552f406536d')\"\n",
              "            title=\"Convert this dataframe to an interactive table.\"\n",
              "            style=\"display:none;\">\n",
              "\n",
              "  <svg xmlns=\"http://www.w3.org/2000/svg\" height=\"24px\" viewBox=\"0 -960 960 960\">\n",
              "    <path d=\"M120-120v-720h720v720H120Zm60-500h600v-160H180v160Zm220 220h160v-160H400v160Zm0 220h160v-160H400v160ZM180-400h160v-160H180v160Zm440 0h160v-160H620v160ZM180-180h160v-160H180v160Zm440 0h160v-160H620v160Z\"/>\n",
              "  </svg>\n",
              "    </button>\n",
              "\n",
              "  <style>\n",
              "    .colab-df-container {\n",
              "      display:flex;\n",
              "      gap: 12px;\n",
              "    }\n",
              "\n",
              "    .colab-df-convert {\n",
              "      background-color: #E8F0FE;\n",
              "      border: none;\n",
              "      border-radius: 50%;\n",
              "      cursor: pointer;\n",
              "      display: none;\n",
              "      fill: #1967D2;\n",
              "      height: 32px;\n",
              "      padding: 0 0 0 0;\n",
              "      width: 32px;\n",
              "    }\n",
              "\n",
              "    .colab-df-convert:hover {\n",
              "      background-color: #E2EBFA;\n",
              "      box-shadow: 0px 1px 2px rgba(60, 64, 67, 0.3), 0px 1px 3px 1px rgba(60, 64, 67, 0.15);\n",
              "      fill: #174EA6;\n",
              "    }\n",
              "\n",
              "    .colab-df-buttons div {\n",
              "      margin-bottom: 4px;\n",
              "    }\n",
              "\n",
              "    [theme=dark] .colab-df-convert {\n",
              "      background-color: #3B4455;\n",
              "      fill: #D2E3FC;\n",
              "    }\n",
              "\n",
              "    [theme=dark] .colab-df-convert:hover {\n",
              "      background-color: #434B5C;\n",
              "      box-shadow: 0px 1px 3px 1px rgba(0, 0, 0, 0.15);\n",
              "      filter: drop-shadow(0px 1px 2px rgba(0, 0, 0, 0.3));\n",
              "      fill: #FFFFFF;\n",
              "    }\n",
              "  </style>\n",
              "\n",
              "    <script>\n",
              "      const buttonEl =\n",
              "        document.querySelector('#df-75ead03d-30c5-432b-8659-5552f406536d button.colab-df-convert');\n",
              "      buttonEl.style.display =\n",
              "        google.colab.kernel.accessAllowed ? 'block' : 'none';\n",
              "\n",
              "      async function convertToInteractive(key) {\n",
              "        const element = document.querySelector('#df-75ead03d-30c5-432b-8659-5552f406536d');\n",
              "        const dataTable =\n",
              "          await google.colab.kernel.invokeFunction('convertToInteractive',\n",
              "                                                    [key], {});\n",
              "        if (!dataTable) return;\n",
              "\n",
              "        const docLinkHtml = 'Like what you see? Visit the ' +\n",
              "          '<a target=\"_blank\" href=https://colab.research.google.com/notebooks/data_table.ipynb>data table notebook</a>'\n",
              "          + ' to learn more about interactive tables.';\n",
              "        element.innerHTML = '';\n",
              "        dataTable['output_type'] = 'display_data';\n",
              "        await google.colab.output.renderOutput(dataTable, element);\n",
              "        const docLink = document.createElement('div');\n",
              "        docLink.innerHTML = docLinkHtml;\n",
              "        element.appendChild(docLink);\n",
              "      }\n",
              "    </script>\n",
              "  </div>\n",
              "\n",
              "\n",
              "<div id=\"df-e1b4d674-66f4-48cc-8c37-a7d58264aa21\">\n",
              "  <button class=\"colab-df-quickchart\" onclick=\"quickchart('df-e1b4d674-66f4-48cc-8c37-a7d58264aa21')\"\n",
              "            title=\"Suggest charts\"\n",
              "            style=\"display:none;\">\n",
              "\n",
              "<svg xmlns=\"http://www.w3.org/2000/svg\" height=\"24px\"viewBox=\"0 0 24 24\"\n",
              "     width=\"24px\">\n",
              "    <g>\n",
              "        <path d=\"M19 3H5c-1.1 0-2 .9-2 2v14c0 1.1.9 2 2 2h14c1.1 0 2-.9 2-2V5c0-1.1-.9-2-2-2zM9 17H7v-7h2v7zm4 0h-2V7h2v10zm4 0h-2v-4h2v4z\"/>\n",
              "    </g>\n",
              "</svg>\n",
              "  </button>\n",
              "\n",
              "<style>\n",
              "  .colab-df-quickchart {\n",
              "      --bg-color: #E8F0FE;\n",
              "      --fill-color: #1967D2;\n",
              "      --hover-bg-color: #E2EBFA;\n",
              "      --hover-fill-color: #174EA6;\n",
              "      --disabled-fill-color: #AAA;\n",
              "      --disabled-bg-color: #DDD;\n",
              "  }\n",
              "\n",
              "  [theme=dark] .colab-df-quickchart {\n",
              "      --bg-color: #3B4455;\n",
              "      --fill-color: #D2E3FC;\n",
              "      --hover-bg-color: #434B5C;\n",
              "      --hover-fill-color: #FFFFFF;\n",
              "      --disabled-bg-color: #3B4455;\n",
              "      --disabled-fill-color: #666;\n",
              "  }\n",
              "\n",
              "  .colab-df-quickchart {\n",
              "    background-color: var(--bg-color);\n",
              "    border: none;\n",
              "    border-radius: 50%;\n",
              "    cursor: pointer;\n",
              "    display: none;\n",
              "    fill: var(--fill-color);\n",
              "    height: 32px;\n",
              "    padding: 0;\n",
              "    width: 32px;\n",
              "  }\n",
              "\n",
              "  .colab-df-quickchart:hover {\n",
              "    background-color: var(--hover-bg-color);\n",
              "    box-shadow: 0 1px 2px rgba(60, 64, 67, 0.3), 0 1px 3px 1px rgba(60, 64, 67, 0.15);\n",
              "    fill: var(--button-hover-fill-color);\n",
              "  }\n",
              "\n",
              "  .colab-df-quickchart-complete:disabled,\n",
              "  .colab-df-quickchart-complete:disabled:hover {\n",
              "    background-color: var(--disabled-bg-color);\n",
              "    fill: var(--disabled-fill-color);\n",
              "    box-shadow: none;\n",
              "  }\n",
              "\n",
              "  .colab-df-spinner {\n",
              "    border: 2px solid var(--fill-color);\n",
              "    border-color: transparent;\n",
              "    border-bottom-color: var(--fill-color);\n",
              "    animation:\n",
              "      spin 1s steps(1) infinite;\n",
              "  }\n",
              "\n",
              "  @keyframes spin {\n",
              "    0% {\n",
              "      border-color: transparent;\n",
              "      border-bottom-color: var(--fill-color);\n",
              "      border-left-color: var(--fill-color);\n",
              "    }\n",
              "    20% {\n",
              "      border-color: transparent;\n",
              "      border-left-color: var(--fill-color);\n",
              "      border-top-color: var(--fill-color);\n",
              "    }\n",
              "    30% {\n",
              "      border-color: transparent;\n",
              "      border-left-color: var(--fill-color);\n",
              "      border-top-color: var(--fill-color);\n",
              "      border-right-color: var(--fill-color);\n",
              "    }\n",
              "    40% {\n",
              "      border-color: transparent;\n",
              "      border-right-color: var(--fill-color);\n",
              "      border-top-color: var(--fill-color);\n",
              "    }\n",
              "    60% {\n",
              "      border-color: transparent;\n",
              "      border-right-color: var(--fill-color);\n",
              "    }\n",
              "    80% {\n",
              "      border-color: transparent;\n",
              "      border-right-color: var(--fill-color);\n",
              "      border-bottom-color: var(--fill-color);\n",
              "    }\n",
              "    90% {\n",
              "      border-color: transparent;\n",
              "      border-bottom-color: var(--fill-color);\n",
              "    }\n",
              "  }\n",
              "</style>\n",
              "\n",
              "  <script>\n",
              "    async function quickchart(key) {\n",
              "      const quickchartButtonEl =\n",
              "        document.querySelector('#' + key + ' button');\n",
              "      quickchartButtonEl.disabled = true;  // To prevent multiple clicks.\n",
              "      quickchartButtonEl.classList.add('colab-df-spinner');\n",
              "      try {\n",
              "        const charts = await google.colab.kernel.invokeFunction(\n",
              "            'suggestCharts', [key], {});\n",
              "      } catch (error) {\n",
              "        console.error('Error during call to suggestCharts:', error);\n",
              "      }\n",
              "      quickchartButtonEl.classList.remove('colab-df-spinner');\n",
              "      quickchartButtonEl.classList.add('colab-df-quickchart-complete');\n",
              "    }\n",
              "    (() => {\n",
              "      let quickchartButtonEl =\n",
              "        document.querySelector('#df-e1b4d674-66f4-48cc-8c37-a7d58264aa21 button');\n",
              "      quickchartButtonEl.style.display =\n",
              "        google.colab.kernel.accessAllowed ? 'block' : 'none';\n",
              "    })();\n",
              "  </script>\n",
              "</div>\n",
              "    </div>\n",
              "  </div>\n"
            ],
            "application/vnd.google.colaboratory.intrinsic+json": {
              "type": "dataframe",
              "variable_name": "df",
              "summary": "{\n  \"name\": \"df\",\n  \"rows\": 1599,\n  \"fields\": [\n    {\n      \"column\": \"fixed acidity\",\n      \"properties\": {\n        \"dtype\": \"number\",\n        \"std\": 1.7410963181276953,\n        \"min\": 4.6,\n        \"max\": 15.9,\n        \"num_unique_values\": 96,\n        \"samples\": [\n          5.3,\n          12.7,\n          12.6\n        ],\n        \"semantic_type\": \"\",\n        \"description\": \"\"\n      }\n    },\n    {\n      \"column\": \"volatile acidity\",\n      \"properties\": {\n        \"dtype\": \"number\",\n        \"std\": 0.17905970415353537,\n        \"min\": 0.12,\n        \"max\": 1.58,\n        \"num_unique_values\": 143,\n        \"samples\": [\n          1.025,\n          0.4,\n          0.87\n        ],\n        \"semantic_type\": \"\",\n        \"description\": \"\"\n      }\n    },\n    {\n      \"column\": \"citric acid\",\n      \"properties\": {\n        \"dtype\": \"number\",\n        \"std\": 0.19480113740531857,\n        \"min\": 0.0,\n        \"max\": 1.0,\n        \"num_unique_values\": 80,\n        \"samples\": [\n          0.37,\n          0.0,\n          0.09\n        ],\n        \"semantic_type\": \"\",\n        \"description\": \"\"\n      }\n    },\n    {\n      \"column\": \"residual sugar\",\n      \"properties\": {\n        \"dtype\": \"number\",\n        \"std\": 1.4099280595072798,\n        \"min\": 0.9,\n        \"max\": 15.5,\n        \"num_unique_values\": 91,\n        \"samples\": [\n          11.0,\n          3.0,\n          15.5\n        ],\n        \"semantic_type\": \"\",\n        \"description\": \"\"\n      }\n    },\n    {\n      \"column\": \"chlorides\",\n      \"properties\": {\n        \"dtype\": \"number\",\n        \"std\": 0.0470653020100901,\n        \"min\": 0.012,\n        \"max\": 0.611,\n        \"num_unique_values\": 153,\n        \"samples\": [\n          0.096,\n          0.3429999999999999,\n          0.159\n        ],\n        \"semantic_type\": \"\",\n        \"description\": \"\"\n      }\n    },\n    {\n      \"column\": \"free sulfur dioxide\",\n      \"properties\": {\n        \"dtype\": \"number\",\n        \"std\": 10.460156969809725,\n        \"min\": 1.0,\n        \"max\": 72.0,\n        \"num_unique_values\": 60,\n        \"samples\": [\n          11.0,\n          9.0,\n          32.0\n        ],\n        \"semantic_type\": \"\",\n        \"description\": \"\"\n      }\n    },\n    {\n      \"column\": \"total sulfur dioxide\",\n      \"properties\": {\n        \"dtype\": \"number\",\n        \"std\": 32.895324478299074,\n        \"min\": 6.0,\n        \"max\": 289.0,\n        \"num_unique_values\": 144,\n        \"samples\": [\n          68.0,\n          35.0,\n          101.0\n        ],\n        \"semantic_type\": \"\",\n        \"description\": \"\"\n      }\n    },\n    {\n      \"column\": \"density\",\n      \"properties\": {\n        \"dtype\": \"number\",\n        \"std\": 0.0018873339538425554,\n        \"min\": 0.99007,\n        \"max\": 1.00369,\n        \"num_unique_values\": 436,\n        \"samples\": [\n          0.99974,\n          1.0001,\n          0.99471\n        ],\n        \"semantic_type\": \"\",\n        \"description\": \"\"\n      }\n    },\n    {\n      \"column\": \"pH\",\n      \"properties\": {\n        \"dtype\": \"number\",\n        \"std\": 0.15438646490354277,\n        \"min\": 2.74,\n        \"max\": 4.01,\n        \"num_unique_values\": 89,\n        \"samples\": [\n          3.07,\n          3.0,\n          3.15\n        ],\n        \"semantic_type\": \"\",\n        \"description\": \"\"\n      }\n    },\n    {\n      \"column\": \"sulphates\",\n      \"properties\": {\n        \"dtype\": \"number\",\n        \"std\": 0.16950697959010996,\n        \"min\": 0.33,\n        \"max\": 2.0,\n        \"num_unique_values\": 96,\n        \"samples\": [\n          1.07,\n          1.04,\n          1.18\n        ],\n        \"semantic_type\": \"\",\n        \"description\": \"\"\n      }\n    },\n    {\n      \"column\": \"alcohol\",\n      \"properties\": {\n        \"dtype\": \"number\",\n        \"std\": 1.0656675818473946,\n        \"min\": 8.4,\n        \"max\": 14.9,\n        \"num_unique_values\": 65,\n        \"samples\": [\n          8.5,\n          9.95,\n          9.4\n        ],\n        \"semantic_type\": \"\",\n        \"description\": \"\"\n      }\n    },\n    {\n      \"column\": \"quality\",\n      \"properties\": {\n        \"dtype\": \"number\",\n        \"std\": 0,\n        \"min\": 3,\n        \"max\": 8,\n        \"num_unique_values\": 6,\n        \"samples\": [\n          5,\n          6,\n          3\n        ],\n        \"semantic_type\": \"\",\n        \"description\": \"\"\n      }\n    }\n  ]\n}"
            }
          },
          "metadata": {},
          "execution_count": 4
        }
      ]
    },
    {
      "cell_type": "code",
      "source": [
        "#extract features and class\n",
        "X_1 = df[['fixed acidity','volatile acidity','citric acid','residual sugar','chlorides','free sulfur dioxide','total sulfur dioxide','density','pH','sulphates','alcohol']]\n",
        "y = df['quality']"
      ],
      "metadata": {
        "id": "70vofU1cVFlk"
      },
      "execution_count": null,
      "outputs": []
    },
    {
      "cell_type": "code",
      "source": [
        "#Correlation matrix\n",
        "corrMatrix = X_1.corr();"
      ],
      "metadata": {
        "id": "pJTXUPJTVrDn"
      },
      "execution_count": null,
      "outputs": []
    },
    {
      "cell_type": "code",
      "source": [
        "#Heatmap of correlation matrix X\n",
        "plt.figure(figsize=(40, 40))\n",
        "sn.heatmap(corrMatrix, annot=True, cmap='RdYlBu', linewidths = 5,annot_kws={\"size\": 20})\n",
        "plt.title('Correlation Matrix X Heatmap')\n",
        "plt.show()"
      ],
      "metadata": {
        "colab": {
          "base_uri": "https://localhost:8080/",
          "height": 954
        },
        "id": "z-vrmWUFVt1J",
        "outputId": "9b9a7af3-da8f-403f-9bd7-4766237c62b9"
      },
      "execution_count": null,
      "outputs": [
        {
          "output_type": "display_data",
          "data": {
            "text/plain": [
              "<Figure size 4000x4000 with 2 Axes>"
            ],
            "image/png": "[encoded data removed]"
          },
          "metadata": {}
        }
      ]
    },
    {
      "cell_type": "markdown",
      "source": [
        "correlation between each feature is low. Highest is 0.68. So we keep all features."
      ],
      "metadata": {
        "id": "zxbre0mfXhU3"
      }
    },
    {
      "cell_type": "code",
      "source": [
        "#count values in quality column\n",
        "column_name = 'quality'\n",
        "\n",
        "# Calculate the value counts for the column\n",
        "value_counts = df[column_name].value_counts()\n",
        "\n",
        "print(\"Unique values and their counts in column '{}':\".format(column_name))\n",
        "print(value_counts)"
      ],
      "metadata": {
        "colab": {
          "base_uri": "https://localhost:8080/"
        },
        "id": "4PtlufWHXmj4",
        "outputId": "dac495ab-152e-4425-bd30-71652fbff8db"
      },
      "execution_count": null,
      "outputs": [
        {
          "output_type": "stream",
          "name": "stdout",
          "text": [
            "Unique values and their counts in column 'quality':\n",
            "5    681\n",
            "6    638\n",
            "7    199\n",
            "4     53\n",
            "8     18\n",
            "3     10\n",
            "Name: quality, dtype: int64\n"
          ]
        }
      ]
    },
    {
      "cell_type": "code",
      "source": [
        "#check for null values\n",
        "null_values_total = df.isnull().sum()\n",
        "null_values_total"
      ],
      "metadata": {
        "colab": {
          "base_uri": "https://localhost:8080/"
        },
        "id": "8LhLbrjEY_nE",
        "outputId": "b10490fb-e205-4e11-c0af-80b56f7a3e1e"
      },
      "execution_count": null,
      "outputs": [
        {
          "output_type": "execute_result",
          "data": {
            "text/plain": [
              "fixed acidity           0\n",
              "volatile acidity        0\n",
              "citric acid             0\n",
              "residual sugar          0\n",
              "chlorides               0\n",
              "free sulfur dioxide     0\n",
              "total sulfur dioxide    0\n",
              "density                 0\n",
              "pH                      0\n",
              "sulphates               0\n",
              "alcohol                 0\n",
              "quality                 0\n",
              "dtype: int64"
            ]
          },
          "metadata": {},
          "execution_count": 9
        }
      ]
    },
    {
      "cell_type": "markdown",
      "source": [
        "# Binary Classification (Threshold ≥ 7)"
      ],
      "metadata": {
        "id": "0nlFPJUY1ysL"
      }
    },
    {
      "cell_type": "code",
      "source": [
        "#copy df to df_copy\n",
        "df_copy = df.copy()"
      ],
      "metadata": {
        "id": "qLptELoDbirH"
      },
      "execution_count": null,
      "outputs": []
    },
    {
      "cell_type": "code",
      "source": [
        "#replace quality with ratings\n",
        "df_copy = df_copy.replace({'quality' : {\n",
        "                                    8 : 'Good',\n",
        "                                    7 : 'Good',\n",
        "                                    6 : 'Bad',\n",
        "                                    5 : 'Bad',\n",
        "                                    4 : 'Bad',\n",
        "                                    3 : 'Bad'}})"
      ],
      "metadata": {
        "id": "nm8ooVplOn_K"
      },
      "execution_count": null,
      "outputs": []
    },
    {
      "cell_type": "code",
      "source": [
        "#count values in quality column\n",
        "column_name = 'quality'\n",
        "\n",
        "# Calculate the value counts for the column\n",
        "value_counts = df_copy[column_name].value_counts()\n",
        "\n",
        "print(\"Unique values and their counts in column '{}':\".format(column_name))\n",
        "print(value_counts)"
      ],
      "metadata": {
        "colab": {
          "base_uri": "https://localhost:8080/"
        },
        "id": "6Y3iRH7Xb7BG",
        "outputId": "5cf89d3b-3d4c-403b-fd53-fcac8210f1dc"
      },
      "execution_count": null,
      "outputs": [
        {
          "output_type": "stream",
          "name": "stdout",
          "text": [
            "Unique values and their counts in column 'quality':\n",
            "Bad     1382\n",
            "Good     217\n",
            "Name: quality, dtype: int64\n"
          ]
        }
      ]
    },
    {
      "cell_type": "code",
      "source": [
        "#code to plot the distributions\n",
        "normalized_counts = (value_counts - value_counts.min()) / (value_counts.max() - value_counts.min())* 0.8 + 0.2\n",
        "\n",
        "# Define colors based on normalized counts\n",
        "colors = plt.cm.Blues(normalized_counts)\n",
        "\n",
        "# Plotting\n",
        "plt.figure(figsize=(5, 4))\n",
        "value_counts.plot(kind='bar', color=colors)\n",
        "plt.xlabel('Quality score')\n",
        "plt.ylabel('Counts')\n",
        "plt.title('Class Distribution of binary classification with threshold >=7')\n",
        "plt.xticks(rotation=45)  # Rotate x-labels for better visibility if needed\n",
        "plt.tight_layout()  # Adjust layout to prevent clipping of labels\n",
        "plt.show()"
      ],
      "metadata": {
        "colab": {
          "base_uri": "https://localhost:8080/",
          "height": 407
        },
        "id": "x2g9KAUurSN5",
        "outputId": "ae42a6cd-d54c-4ea8-fd71-f6b7bab25af6"
      },
      "execution_count": null,
      "outputs": [
        {
          "output_type": "display_data",
          "data": {
            "text/plain": [
              "<Figure size 500x400 with 1 Axes>"
            ],
            "image/png": "[encoded data removed]"
          },
          "metadata": {}
        }
      ]
    },
    {
      "cell_type": "code",
      "source": [
        "#extract features and class\n",
        "X_2 = df_copy[['fixed acidity','volatile acidity','citric acid','residual sugar','chlorides','free sulfur dioxide','total sulfur dioxide','density','pH','sulphates','alcohol']]\n",
        "y_2 = df_copy['quality']"
      ],
      "metadata": {
        "id": "C75NiT5GceXV"
      },
      "execution_count": null,
      "outputs": []
    },
    {
      "cell_type": "code",
      "source": [
        "#train-test split keeping ratio of each training class equal using stratify\n",
        "Shuffle_state = 4720\n",
        "X_trainunscaled, X_testunscaled, y_train, y_test = train_test_split(X_2,y_2, test_size=0.25,random_state=4720,stratify = y)"
      ],
      "metadata": {
        "id": "IdSpBsBDPK6i"
      },
      "execution_count": null,
      "outputs": []
    },
    {
      "cell_type": "code",
      "source": [
        "#Scaling of train set\n",
        "scaler = StandardScaler()\n",
        "X_train = scaler.fit_transform(X_trainunscaled)"
      ],
      "metadata": {
        "id": "IeFZDlo2PCKB"
      },
      "execution_count": null,
      "outputs": []
    },
    {
      "cell_type": "code",
      "source": [
        "#Scaling of test set\n",
        "scaler = StandardScaler()\n",
        "X_test = scaler.fit_transform(X_testunscaled)"
      ],
      "metadata": {
        "id": "ijYy_nGgPJIe"
      },
      "execution_count": null,
      "outputs": []
    },
    {
      "cell_type": "code",
      "source": [
        "#ratio of total data\n",
        "ratio = (df_copy['quality'].value_counts()/ len(df_copy))*100\n",
        "ratio"
      ],
      "metadata": {
        "colab": {
          "base_uri": "https://localhost:8080/"
        },
        "id": "vex08bS1hS4y",
        "outputId": "197e60fa-e68e-4aa2-d058-89aa02f7c2f3"
      },
      "execution_count": null,
      "outputs": [
        {
          "output_type": "execute_result",
          "data": {
            "text/plain": [
              "Bad     86.429018\n",
              "Good    13.570982\n",
              "Name: quality, dtype: float64"
            ]
          },
          "metadata": {},
          "execution_count": 21
        }
      ]
    },
    {
      "cell_type": "code",
      "source": [
        "#ratio of test data\n",
        "ratio = (y_test.value_counts())\n",
        "ratio"
      ],
      "metadata": {
        "colab": {
          "base_uri": "https://localhost:8080/"
        },
        "id": "XNQl_CWZ1T6d",
        "outputId": "d87b2678-b1b4-4706-f6ab-13632177c68c"
      },
      "execution_count": null,
      "outputs": [
        {
          "output_type": "execute_result",
          "data": {
            "text/plain": [
              "Bad     345\n",
              "Good     55\n",
              "Name: quality, dtype: int64"
            ]
          },
          "metadata": {},
          "execution_count": 22
        }
      ]
    },
    {
      "cell_type": "code",
      "source": [
        "#ratio of test data\n",
        "ratio = (y_test.value_counts()/ df_copy['quality'].value_counts())*100\n",
        "ratio"
      ],
      "metadata": {
        "colab": {
          "base_uri": "https://localhost:8080/"
        },
        "id": "36FLHHQbdCAT",
        "outputId": "faa80d1d-cc6f-4164-cccc-388c1c131843"
      },
      "execution_count": null,
      "outputs": [
        {
          "output_type": "execute_result",
          "data": {
            "text/plain": [
              "Bad     24.963821\n",
              "Good    25.345622\n",
              "Name: quality, dtype: float64"
            ]
          },
          "metadata": {},
          "execution_count": 23
        }
      ]
    },
    {
      "cell_type": "code",
      "source": [
        "#ratio of test data\n",
        "ratio = (y_train.value_counts()/ df_copy['quality'].value_counts())*100\n",
        "ratio"
      ],
      "metadata": {
        "colab": {
          "base_uri": "https://localhost:8080/"
        },
        "id": "8EheI5ttiTTM",
        "outputId": "d5e80556-3e19-49b7-8861-06c01e592cb7"
      },
      "execution_count": null,
      "outputs": [
        {
          "output_type": "execute_result",
          "data": {
            "text/plain": [
              "Bad     75.036179\n",
              "Good    74.654378\n",
              "Name: quality, dtype: float64"
            ]
          },
          "metadata": {},
          "execution_count": 24
        }
      ]
    },
    {
      "cell_type": "code",
      "source": [
        "#model evaluation function\n",
        "labels = ['Bad', 'Good']\n",
        "def model_evaluation(y_test,y_prediction,labels):\n",
        "    Accuracy = accuracy_score(y_test, y_prediction)\n",
        "    print(\"Accuracy: \" + str(Accuracy*100))\n",
        "    cm = confusion_matrix(y_test, y_prediction)\n",
        "    print(cm)"
      ],
      "metadata": {
        "id": "Ujv6wIA2SyHD"
      },
      "execution_count": null,
      "outputs": []
    },
    {
      "cell_type": "markdown",
      "source": [
        "## NON BAYESIAN METHODS"
      ],
      "metadata": {
        "id": "RqtwP6bxvxaG"
      }
    },
    {
      "cell_type": "markdown",
      "source": [
        "### SVM"
      ],
      "metadata": {
        "id": "qdN-4sgJpyZ7"
      }
    },
    {
      "cell_type": "code",
      "source": [
        "#parameters for cross validation for SVM\n",
        "svm_param_grid = {'kernel': ['linear', 'rbf', 'poly'], 'C': [0.01, 0.1, 1,10,100],'gamma': [0.001, 0.01, 0.1, 1, 10, 100]}"
      ],
      "metadata": {
        "id": "pDSnI2LAeIiL"
      },
      "execution_count": null,
      "outputs": []
    },
    {
      "cell_type": "code",
      "source": [
        "#Hyperparameter tuning for SVM using random search\n",
        "start_time = time.time()\n",
        "svc = SVC()\n",
        "#svc_grid = GridSearchCV(svc, svm_param_grid,cv=5)\n",
        "svc_grid = RandomizedSearchCV(estimator = svc, param_distributions = svm_param_grid, cv=5, random_state = 42)\n",
        "svc_grid.fit(X_train, y_train)\n",
        "best_svc_params = svc_grid.best_params_\n",
        "best_svc = svc_grid.best_estimator_\n",
        "end_time = time.time()\n",
        "runtime = end_time - start_time\n",
        "print(\"Runtime:\", runtime, \"seconds\")"
      ],
      "metadata": {
        "id": "X0BpIP01ebBO",
        "colab": {
          "base_uri": "https://localhost:8080/"
        },
        "outputId": "28c202fb-4a88-4f5a-90d1-34c61738be64"
      },
      "execution_count": null,
      "outputs": [
        {
          "output_type": "stream",
          "name": "stdout",
          "text": [
            "Runtime: 14.378260850906372 seconds\n"
          ]
        }
      ]
    },
    {
      "cell_type": "code",
      "source": [
        "#Best SVC parameter from the random search\n",
        "print('{}:{}'.format(best_svc_params,best_svc))"
      ],
      "metadata": {
        "colab": {
          "base_uri": "https://localhost:8080/"
        },
        "id": "krKgXxcNejH8",
        "outputId": "6bee6045-cdd7-40a8-c1b5-2bf9700d143a"
      },
      "execution_count": null,
      "outputs": [
        {
          "output_type": "stream",
          "name": "stdout",
          "text": [
            "{'kernel': 'rbf', 'gamma': 100, 'C': 10}:SVC(C=10, gamma=100)\n"
          ]
        }
      ]
    },
    {
      "cell_type": "code",
      "source": [
        "#SVM model training using best random search parameters\n",
        "\n",
        "clf_svm = SVC(C=100,gamma=10, kernel='rbf')\n",
        "clf_svm.fit(X_train, y_train)\n",
        "y_prediction_svm = clf_svm.predict(X_test)"
      ],
      "metadata": {
        "id": "mFfKRg14elKN"
      },
      "execution_count": null,
      "outputs": []
    },
    {
      "cell_type": "code",
      "source": [
        "#SVM model evaluation for random search\n",
        "model_evaluation(y_test,y_prediction_svm,labels)"
      ],
      "metadata": {
        "colab": {
          "base_uri": "https://localhost:8080/"
        },
        "id": "n-MYSiLIevxT",
        "outputId": "17e724ad-b05a-4989-e59d-4e7167335ac7"
      },
      "execution_count": null,
      "outputs": [
        {
          "output_type": "stream",
          "name": "stdout",
          "text": [
            "Accuracy: 88.25\n",
            "[[345   0]\n",
            " [ 47   8]]\n"
          ]
        }
      ]
    },
    {
      "cell_type": "code",
      "source": [
        "#Hyperparameter tuning for SVM using gridsearch\n",
        "start_time = time.time()\n",
        "svc2 = SVC()\n",
        "svc_grid2 = GridSearchCV(svc2, svm_param_grid,cv=5)\n",
        "#svc_grid = RandomizedSearchCV(estimator = svc, param_distributions = svm_param_grid, cv=5, random_state = 42)\n",
        "svc_grid2.fit(X_train, y_train)\n",
        "best_svc_params2 = svc_grid2.best_params_\n",
        "best_svc2 = svc_grid2.best_estimator_\n",
        "end_time = time.time()\n",
        "runtime = end_time - start_time\n",
        "print(\"Runtime:\", runtime, \"seconds\")"
      ],
      "metadata": {
        "id": "aL0O6HDYVQDv",
        "colab": {
          "base_uri": "https://localhost:8080/"
        },
        "outputId": "12e37032-5c00-4036-9769-63a6eaa1548b"
      },
      "execution_count": null,
      "outputs": [
        {
          "output_type": "stream",
          "name": "stdout",
          "text": [
            "Runtime: 523.8073101043701 seconds\n"
          ]
        }
      ]
    },
    {
      "cell_type": "code",
      "source": [
        "#Best SVC parameter from the grid search\n",
        "print('{}:{}'.format(best_svc_params2,best_svc2))"
      ],
      "metadata": {
        "colab": {
          "base_uri": "https://localhost:8080/"
        },
        "id": "ZcGWXZgDVZ-t",
        "outputId": "8d0843ac-3ac8-4c59-cc96-20112d707749"
      },
      "execution_count": null,
      "outputs": [
        {
          "output_type": "stream",
          "name": "stdout",
          "text": [
            "{'C': 1, 'gamma': 1, 'kernel': 'rbf'}:SVC(C=1, gamma=1)\n"
          ]
        }
      ]
    },
    {
      "cell_type": "code",
      "source": [
        "#SVM model training using grid search parameters\n",
        "clf_svm2 = SVC(C=1,gamma=1, kernel='rbf')\n",
        "clf_svm2.fit(X_train, y_train)\n",
        "y_prediction_svm2 = clf_svm2.predict(X_test)"
      ],
      "metadata": {
        "id": "TrmGklB2VhLN"
      },
      "execution_count": null,
      "outputs": []
    },
    {
      "cell_type": "code",
      "source": [
        "#SVM model evaluation\n",
        "model_evaluation(y_test,y_prediction_svm2,labels)"
      ],
      "metadata": {
        "colab": {
          "base_uri": "https://localhost:8080/"
        },
        "id": "3ncoGxVYVogk",
        "outputId": "966621e5-5a09-4a35-f29a-1b819cd3cb02"
      },
      "execution_count": null,
      "outputs": [
        {
          "output_type": "stream",
          "name": "stdout",
          "text": [
            "Accuracy: 89.5\n",
            "[[340   5]\n",
            " [ 37  18]]\n"
          ]
        }
      ]
    },
    {
      "cell_type": "markdown",
      "source": [
        "### Logistic Regression"
      ],
      "metadata": {
        "id": "9ovjwZktp3Ux"
      }
    },
    {
      "cell_type": "code",
      "source": [
        "#parameters for grid search for Logistic Regression\n",
        "LR_param_grid = {'C': [0.001, 0.01, 0.1, 1, 10, 100]}"
      ],
      "metadata": {
        "id": "KyvpX5O9ex9-"
      },
      "execution_count": null,
      "outputs": []
    },
    {
      "cell_type": "code",
      "source": [
        "#Hyperparameter tuning for LR using gridsearch\n",
        "start_time = time.time()\n",
        "LR = LogisticRegression(max_iter = 2000)\n",
        "LR_grid = GridSearchCV(LR, LR_param_grid,cv=5)\n",
        "#LR_grid = RandomizedSearchCV(estimator = LR, param_distributions = LR_param_grid, cv=5, random_state=42)\n",
        "LR_grid.fit(X_train, y_train)\n",
        "best_LR_params = LR_grid.best_params_\n",
        "best_LR = LR_grid.best_estimator_\n",
        "end_time = time.time()\n",
        "runtime = end_time - start_time\n",
        "print(\"Runtime:\", runtime, \"seconds\")"
      ],
      "metadata": {
        "id": "Eg_amNHpisk9",
        "colab": {
          "base_uri": "https://localhost:8080/"
        },
        "outputId": "63841694-6abb-4277-ef77-200c34b544e0"
      },
      "execution_count": null,
      "outputs": [
        {
          "output_type": "stream",
          "name": "stdout",
          "text": [
            "Runtime: 0.42772936820983887 seconds\n"
          ]
        }
      ]
    },
    {
      "cell_type": "code",
      "source": [
        "#Best LR parameter from the grid search\n",
        "print('{}'.format(best_LR_params))"
      ],
      "metadata": {
        "colab": {
          "base_uri": "https://localhost:8080/"
        },
        "id": "uUQMeFF5ive5",
        "outputId": "a0004098-f21e-4b1a-9444-e32824bf23b6"
      },
      "execution_count": null,
      "outputs": [
        {
          "output_type": "stream",
          "name": "stdout",
          "text": [
            "{'C': 1}\n"
          ]
        }
      ]
    },
    {
      "cell_type": "code",
      "source": [
        "#LR model training\n",
        "\n",
        "clf_lr = LogisticRegression(C = 1.2)\n",
        "clf_lr.fit(X_train, y_train)\n",
        "y_prediction_lr = clf_lr.predict(X_test)"
      ],
      "metadata": {
        "id": "wKueKIK6iyQ8"
      },
      "execution_count": null,
      "outputs": []
    },
    {
      "cell_type": "code",
      "source": [
        "#LR model evaluation\n",
        "model_evaluation(y_test,y_prediction_lr,labels)"
      ],
      "metadata": {
        "colab": {
          "base_uri": "https://localhost:8080/"
        },
        "id": "qX5tB5Xbi1Uo",
        "outputId": "57175db2-3430-4fdc-ecc3-a752fa2489af"
      },
      "execution_count": null,
      "outputs": [
        {
          "output_type": "stream",
          "name": "stdout",
          "text": [
            "Accuracy: 87.75\n",
            "[[332  13]\n",
            " [ 36  19]]\n"
          ]
        }
      ]
    },
    {
      "cell_type": "markdown",
      "source": [
        "### Random Forest"
      ],
      "metadata": {
        "id": "Srb_tJrLp9_n"
      }
    },
    {
      "cell_type": "code",
      "source": [
        "from scipy import stats"
      ],
      "metadata": {
        "id": "cHbUwJrfvHWN"
      },
      "execution_count": null,
      "outputs": []
    },
    {
      "cell_type": "code",
      "source": [
        "#parameters for hyperparameter tuning for Random Forest\n",
        "RF_param_grid = {'n_estimators': [100, 200, 300, 400, 500], 'max_depth': [10, 20, 30, 40, 50],'min_samples_split': list(stats.randint(1, 30 + 1).rvs(size=29)), 'min_samples_leaf': list(stats.randint(1, 30 + 1).rvs(size=29))}"
      ],
      "metadata": {
        "id": "MdmLjtYhi7nY"
      },
      "execution_count": null,
      "outputs": []
    },
    {
      "cell_type": "code",
      "source": [
        "#parameters for hyperparameter tuning for Random Forest\n",
        "RF_param_grid = {'n_estimators': [100, 200, 300], 'max_depth': [10, 20, 30],'min_samples_split': list(range(2,5)), 'min_samples_leaf': list(range(2,5))}"
      ],
      "metadata": {
        "id": "eWhh8YSL6HOu"
      },
      "execution_count": null,
      "outputs": []
    },
    {
      "cell_type": "code",
      "source": [
        "#Random search for hyperparameter tuning for random forest\n",
        "start_time = time.time()\n",
        "RF = RandomForestClassifier(random_state=42)\n",
        "RF_grid = RandomizedSearchCV(estimator = RF, param_distributions = RF_param_grid, cv=5, random_state=42)\n",
        "#RF_grid = GridSearchCV(RF, RF_param_grid,cv=5)\n",
        "RF_grid.fit(X_train, y_train)\n",
        "best_RF_params = RF_grid.best_params_\n",
        "best_RF = RF_grid.best_estimator_\n",
        "end_time = time.time()\n",
        "runtime = end_time - start_time\n",
        "print(\"Runtime:\", runtime, \"seconds\")"
      ],
      "metadata": {
        "id": "1xIT2G7Ai8_k",
        "colab": {
          "base_uri": "https://localhost:8080/"
        },
        "outputId": "def7a448-35c5-4e55-d556-5abb60f1f201"
      },
      "execution_count": null,
      "outputs": [
        {
          "output_type": "stream",
          "name": "stdout",
          "text": [
            "Runtime: 26.37883448600769 seconds\n"
          ]
        }
      ]
    },
    {
      "cell_type": "code",
      "source": [
        "#Best hyperparameter from the random forest\n",
        "print('{}'.format(best_RF_params))"
      ],
      "metadata": {
        "colab": {
          "base_uri": "https://localhost:8080/"
        },
        "id": "wDXpnfT5i-gg",
        "outputId": "d67df5e1-02a0-40e0-ad33-aa54c6fc3ab4"
      },
      "execution_count": null,
      "outputs": [
        {
          "output_type": "stream",
          "name": "stdout",
          "text": [
            "{'n_estimators': 200, 'min_samples_split': 4, 'min_samples_leaf': 3, 'max_depth': 30}\n"
          ]
        }
      ]
    },
    {
      "cell_type": "code",
      "source": [
        "#RF model training\n",
        "clf_RF = RandomForestClassifier(n_estimators = 200, random_state=42, max_depth = 30,min_samples_leaf = 4,min_samples_split= 3)\n",
        "clf_RF.fit(X_train, y_train)\n",
        "y_prediction_RF = clf_RF.predict(X_test)"
      ],
      "metadata": {
        "id": "cVOCuEEBxjUS"
      },
      "execution_count": null,
      "outputs": []
    },
    {
      "cell_type": "code",
      "source": [
        "#RF model evaluation\n",
        "model_evaluation(y_test,y_prediction_RF,labels)"
      ],
      "metadata": {
        "colab": {
          "base_uri": "https://localhost:8080/"
        },
        "id": "GtdydiSzjC85",
        "outputId": "74ac87b2-a0a4-4ff6-b05a-d889e3825c02"
      },
      "execution_count": null,
      "outputs": [
        {
          "output_type": "stream",
          "name": "stdout",
          "text": [
            "Accuracy: 90.0\n",
            "[[339   6]\n",
            " [ 34  21]]\n"
          ]
        }
      ]
    },
    {
      "cell_type": "markdown",
      "source": [
        "### KNN"
      ],
      "metadata": {
        "id": "iZKAP7Uev9cU"
      }
    },
    {
      "cell_type": "code",
      "source": [
        "#define hyperparameter for KNN\n",
        "knn_param_grid = {\n",
        "    'n_neighbors': list(range(1, 10))\n",
        "}"
      ],
      "metadata": {
        "id": "dxGjJ9z25ZbQ"
      },
      "execution_count": null,
      "outputs": []
    },
    {
      "cell_type": "code",
      "source": [
        "#Grid search for hyperparameter tuning for knn\n",
        "start_time = time.time()\n",
        "knn_model = KNeighborsClassifier()\n",
        "knn_grid = GridSearchCV(knn_model, knn_param_grid, cv=5)\n",
        "#knn_grid = RandomizedSearchCV(estimator = knn_model, param_distributions = knn_param_grid, cv=10, random_state=42)\n",
        "knn_grid.fit(X_train, y_train)\n",
        "best_knn_params = knn_grid.best_params_\n",
        "best_knn = knn_grid.best_estimator_\n",
        "end_time = time.time()\n",
        "runtime = end_time - start_time\n",
        "print(\"Runtime:\", runtime, \"seconds\")"
      ],
      "metadata": {
        "id": "pseuIMjUwDjZ",
        "colab": {
          "base_uri": "https://localhost:8080/"
        },
        "outputId": "834d9bfb-7b2b-48b3-c29d-56bd1f14165c"
      },
      "execution_count": null,
      "outputs": [
        {
          "output_type": "stream",
          "name": "stdout",
          "text": [
            "Runtime: 0.9975168704986572 seconds\n"
          ]
        }
      ]
    },
    {
      "cell_type": "code",
      "source": [
        "#Best hyperparameter from the knn\n",
        "print('{}'.format(best_knn_params))"
      ],
      "metadata": {
        "colab": {
          "base_uri": "https://localhost:8080/"
        },
        "id": "tdsZf8HuwIgi",
        "outputId": "9fde289d-5258-4c95-85cf-86514d8954fd"
      },
      "execution_count": null,
      "outputs": [
        {
          "output_type": "stream",
          "name": "stdout",
          "text": [
            "{'n_neighbors': 2}\n"
          ]
        }
      ]
    },
    {
      "cell_type": "code",
      "source": [
        "#KNN model training\n",
        "clf_knn = KNeighborsClassifier(n_neighbors = 2)\n",
        "clf_knn.fit(X_train, y_train)\n",
        "knn_predictions = clf_knn.predict(X_test)"
      ],
      "metadata": {
        "id": "3MnBGPitwHw8"
      },
      "execution_count": null,
      "outputs": []
    },
    {
      "cell_type": "code",
      "source": [
        "#KNN model evaluation\n",
        "model_evaluation(y_test,knn_predictions,labels)"
      ],
      "metadata": {
        "colab": {
          "base_uri": "https://localhost:8080/"
        },
        "id": "AEHFrj30wxiB",
        "outputId": "3f59d1b5-668b-4904-8fd8-6894de84f79f"
      },
      "execution_count": null,
      "outputs": [
        {
          "output_type": "stream",
          "name": "stdout",
          "text": [
            "Accuracy: 88.75\n",
            "[[336   9]\n",
            " [ 36  19]]\n"
          ]
        }
      ]
    },
    {
      "cell_type": "markdown",
      "source": [
        "### MLP"
      ],
      "metadata": {
        "id": "xBIo1uUd2A6H"
      }
    },
    {
      "cell_type": "code",
      "source": [
        "#hyperparameters for the mlp\n",
        "mlp_param_grid = {'hidden_layer_sizes': [(50), (50,50), (100,100,100)], 'alpha': [0.0001, 0.001, 0.01], 'activation': ['relu', 'tanh'],'solver': ['adam', 'sgd'], 'max_iter': [300, 400, 500]}"
      ],
      "metadata": {
        "id": "K6j6uCs_3CNi"
      },
      "execution_count": null,
      "outputs": []
    },
    {
      "cell_type": "code",
      "source": [
        "#Random search for hyperparameter tuning for mlp\n",
        "start_time = time.time()\n",
        "mlp_classifier = MLPClassifier(random_state=42)\n",
        "mlp_grid = RandomizedSearchCV(estimator = mlp_classifier, param_distributions = mlp_param_grid, cv=5, random_state=42)\n",
        "mlp_grid.fit(X_train, y_train)\n",
        "best_mlp_params = mlp_grid.best_params_\n",
        "best_mlp = mlp_grid.best_estimator_\n",
        "end_time = time.time()\n",
        "runtime = end_time - start_time\n",
        "print(\"Runtime:\", runtime, \"seconds\")"
      ],
      "metadata": {
        "colab": {
          "base_uri": "https://localhost:8080/"
        },
        "id": "VboKXH9c3EI0",
        "outputId": "badc46b4-d5e0-4c4f-97a9-75f346e39898"
      },
      "execution_count": null,
      "outputs": [
        {
          "output_type": "stream",
          "name": "stderr",
          "text": [
            "/usr/local/lib/python3.10/dist-packages/sklearn/neural_network/_multilayer_perceptron.py:693: UserWarning: Training interrupted by user.\n",
            "  warnings.warn(\"Training interrupted by user.\")\n",
            "/usr/local/lib/python3.10/dist-packages/sklearn/neural_network/_multilayer_perceptron.py:686: ConvergenceWarning: Stochastic Optimizer: Maximum iterations (500) reached and the optimization hasn't converged yet.\n",
            "  warnings.warn(\n",
            "/usr/local/lib/python3.10/dist-packages/sklearn/neural_network/_multilayer_perceptron.py:686: ConvergenceWarning: Stochastic Optimizer: Maximum iterations (500) reached and the optimization hasn't converged yet.\n",
            "  warnings.warn(\n",
            "/usr/local/lib/python3.10/dist-packages/sklearn/neural_network/_multilayer_perceptron.py:693: UserWarning: Training interrupted by user.\n",
            "  warnings.warn(\"Training interrupted by user.\")\n",
            "/usr/local/lib/python3.10/dist-packages/sklearn/neural_network/_multilayer_perceptron.py:693: UserWarning: Training interrupted by user.\n",
            "  warnings.warn(\"Training interrupted by user.\")\n",
            "/usr/local/lib/python3.10/dist-packages/sklearn/neural_network/_multilayer_perceptron.py:686: ConvergenceWarning: Stochastic Optimizer: Maximum iterations (500) reached and the optimization hasn't converged yet.\n",
            "  warnings.warn(\n",
            "/usr/local/lib/python3.10/dist-packages/sklearn/neural_network/_multilayer_perceptron.py:686: ConvergenceWarning: Stochastic Optimizer: Maximum iterations (500) reached and the optimization hasn't converged yet.\n",
            "  warnings.warn(\n",
            "/usr/local/lib/python3.10/dist-packages/sklearn/neural_network/_multilayer_perceptron.py:686: ConvergenceWarning: Stochastic Optimizer: Maximum iterations (500) reached and the optimization hasn't converged yet.\n",
            "  warnings.warn(\n",
            "/usr/local/lib/python3.10/dist-packages/sklearn/neural_network/_multilayer_perceptron.py:686: ConvergenceWarning: Stochastic Optimizer: Maximum iterations (500) reached and the optimization hasn't converged yet.\n",
            "  warnings.warn(\n",
            "/usr/local/lib/python3.10/dist-packages/sklearn/neural_network/_multilayer_perceptron.py:686: ConvergenceWarning: Stochastic Optimizer: Maximum iterations (500) reached and the optimization hasn't converged yet.\n",
            "  warnings.warn(\n",
            "/usr/local/lib/python3.10/dist-packages/sklearn/neural_network/_multilayer_perceptron.py:686: ConvergenceWarning: Stochastic Optimizer: Maximum iterations (400) reached and the optimization hasn't converged yet.\n",
            "  warnings.warn(\n",
            "/usr/local/lib/python3.10/dist-packages/sklearn/neural_network/_multilayer_perceptron.py:686: ConvergenceWarning: Stochastic Optimizer: Maximum iterations (400) reached and the optimization hasn't converged yet.\n",
            "  warnings.warn(\n",
            "/usr/local/lib/python3.10/dist-packages/sklearn/neural_network/_multilayer_perceptron.py:686: ConvergenceWarning: Stochastic Optimizer: Maximum iterations (400) reached and the optimization hasn't converged yet.\n",
            "  warnings.warn(\n",
            "/usr/local/lib/python3.10/dist-packages/sklearn/neural_network/_multilayer_perceptron.py:686: ConvergenceWarning: Stochastic Optimizer: Maximum iterations (400) reached and the optimization hasn't converged yet.\n",
            "  warnings.warn(\n",
            "/usr/local/lib/python3.10/dist-packages/sklearn/neural_network/_multilayer_perceptron.py:686: ConvergenceWarning: Stochastic Optimizer: Maximum iterations (400) reached and the optimization hasn't converged yet.\n",
            "  warnings.warn(\n",
            "/usr/local/lib/python3.10/dist-packages/sklearn/neural_network/_multilayer_perceptron.py:686: ConvergenceWarning: Stochastic Optimizer: Maximum iterations (400) reached and the optimization hasn't converged yet.\n",
            "  warnings.warn(\n"
          ]
        },
        {
          "output_type": "stream",
          "name": "stdout",
          "text": [
            "Runtime: 166.3710744380951 seconds\n"
          ]
        }
      ]
    },
    {
      "cell_type": "code",
      "source": [
        "print('{}:{}'.format(best_mlp_params,best_mlp))"
      ],
      "metadata": {
        "colab": {
          "base_uri": "https://localhost:8080/"
        },
        "id": "B6vZKGZA3Stb",
        "outputId": "36c839ce-cd0f-45f7-d448-0f6cf00d0892"
      },
      "execution_count": null,
      "outputs": [
        {
          "output_type": "stream",
          "name": "stdout",
          "text": [
            "{'solver': 'adam', 'max_iter': 300, 'hidden_layer_sizes': (100, 100, 100), 'alpha': 0.001, 'activation': 'relu'}:MLPClassifier(alpha=0.001, hidden_layer_sizes=(100, 100, 100), max_iter=300,\n",
            "              random_state=42)\n"
          ]
        }
      ]
    },
    {
      "cell_type": "code",
      "source": [
        "#mlp training\n",
        "mlp = MLPClassifier(alpha=0.001, hidden_layer_sizes=(100,100,100),solver = 'adam',activation = 'relu',max_iter= 300, random_state = 42)\n",
        "mlp.fit(X_train, y_train)\n",
        "y_prediction_mlp = mlp.predict(X_test)"
      ],
      "metadata": {
        "id": "ex606Mfv3VHo"
      },
      "execution_count": null,
      "outputs": []
    },
    {
      "cell_type": "code",
      "source": [
        "#MLP model evaluation\n",
        "model_evaluation(y_test,y_prediction_mlp,labels)"
      ],
      "metadata": {
        "colab": {
          "base_uri": "https://localhost:8080/"
        },
        "id": "MGDJImdr3ZZO",
        "outputId": "7eef4577-0886-41d0-82ec-60a418466731"
      },
      "execution_count": null,
      "outputs": [
        {
          "output_type": "stream",
          "name": "stdout",
          "text": [
            "Accuracy: 89.75\n",
            "[[328  17]\n",
            " [ 24  31]]\n"
          ]
        }
      ]
    },
    {
      "cell_type": "markdown",
      "source": [
        "### Naive Bayes"
      ],
      "metadata": {
        "id": "sgQ1dEOWqCZ-"
      }
    },
    {
      "cell_type": "code",
      "source": [
        "param_grid = {\n",
        "    'priors': [None, [0.3, 0.7], [0.1, 0.9]],\n",
        "    'var_smoothing': [1e-9, 1e-8, 1e-7]\n",
        "}"
      ],
      "metadata": {
        "id": "4oImeiXWkyGa"
      },
      "execution_count": null,
      "outputs": []
    },
    {
      "cell_type": "code",
      "source": [
        "#Grid search for hyperparameter tuning for naive bayes\n",
        "start_time = time.time()\n",
        "nb_model = GaussianNB()\n",
        "nb_grid = GridSearchCV(nb_model, param_grid, cv=5)\n",
        "nb_grid.fit(X_train, y_train)\n",
        "best_nb_params = nb_grid.best_params_\n",
        "best_nb = nb_grid.best_estimator_\n",
        "end_time = time.time()\n",
        "runtime = end_time - start_time\n",
        "print(\"Runtime:\", runtime, \"seconds\")"
      ],
      "metadata": {
        "id": "67LFzXZRkD4u",
        "colab": {
          "base_uri": "https://localhost:8080/"
        },
        "outputId": "0cb47887-af9a-4228-f889-725c96bf9df1"
      },
      "execution_count": null,
      "outputs": [
        {
          "output_type": "stream",
          "name": "stdout",
          "text": [
            "Runtime: 0.17949128150939941 seconds\n"
          ]
        }
      ]
    },
    {
      "cell_type": "code",
      "source": [
        "#Best hyperparameter from the naive bayes\n",
        "print('{}'.format(best_nb))"
      ],
      "metadata": {
        "colab": {
          "base_uri": "https://localhost:8080/"
        },
        "id": "NNVODz1ilP1u",
        "outputId": "9a3e9a01-98ae-43ec-99a6-e95154cde7c9"
      },
      "execution_count": null,
      "outputs": [
        {
          "output_type": "stream",
          "name": "stdout",
          "text": [
            "GaussianNB()\n"
          ]
        }
      ]
    },
    {
      "cell_type": "code",
      "source": [
        "#NB model training\n",
        "clf_nb = GaussianNB()\n",
        "clf_nb.fit(X_train, y_train)\n",
        "nb_predictions = clf_nb.predict(X_test)"
      ],
      "metadata": {
        "id": "_4qD_AwKRMRU"
      },
      "execution_count": null,
      "outputs": []
    },
    {
      "cell_type": "code",
      "source": [
        "#Naive Bayes model evaluation\n",
        "model_evaluation(y_test,nb_predictions,labels)"
      ],
      "metadata": {
        "colab": {
          "base_uri": "https://localhost:8080/"
        },
        "id": "fsM2A8yEke5L",
        "outputId": "d45f8ddd-9dac-415e-8459-da325c70dc80"
      },
      "execution_count": null,
      "outputs": [
        {
          "output_type": "stream",
          "name": "stdout",
          "text": [
            "Accuracy: 84.0\n",
            "[[299  46]\n",
            " [ 18  37]]\n"
          ]
        }
      ]
    },
    {
      "cell_type": "markdown",
      "source": [
        "## BAYESIAN METHODS\n",
        "### RVM"
      ],
      "metadata": {
        "id": "rLkwMZdvw9rs"
      }
    },
    {
      "cell_type": "code",
      "source": [
        "#RVM model training\n",
        "start_time = time.time()\n",
        "rvm = RVC(kernel='linear')\n",
        "rvm.fit(X_train, y_train)\n",
        "rvm_predictions = rvm.predict(X_test)\n",
        "end_time = time.time()\n",
        "runtime = end_time - start_time\n",
        "print(\"Runtime:\", runtime, \"seconds\")"
      ],
      "metadata": {
        "colab": {
          "base_uri": "https://localhost:8080/"
        },
        "id": "JGCtP2jWKTkb",
        "outputId": "c1e14fac-569b-4968-aca0-940414a25438"
      },
      "execution_count": null,
      "outputs": [
        {
          "output_type": "stream",
          "name": "stdout",
          "text": [
            "Runtime: 73.68062925338745 seconds\n"
          ]
        }
      ]
    },
    {
      "cell_type": "code",
      "source": [
        "#RVM model evaluation\n",
        "model_evaluation(y_test,rvm_predictions,labels)"
      ],
      "metadata": {
        "id": "5l-srnb9JCVn",
        "colab": {
          "base_uri": "https://localhost:8080/"
        },
        "outputId": "06cde1f6-042f-4dd1-9601-42bef7cb355e"
      },
      "execution_count": null,
      "outputs": [
        {
          "output_type": "stream",
          "name": "stdout",
          "text": [
            "Accuracy: 87.25\n",
            "[[331  14]\n",
            " [ 37  18]]\n"
          ]
        }
      ]
    },
    {
      "cell_type": "code",
      "source": [],
      "metadata": {
        "id": "KTIh1TvkI0eU"
      },
      "execution_count": null,
      "outputs": []
    },
    {
      "cell_type": "markdown",
      "source": [
        "# Binary Classification (Threshold ≥ 6)"
      ],
      "metadata": {
        "id": "Y9aLzKYbvpZ8"
      }
    },
    {
      "cell_type": "code",
      "source": [],
      "metadata": {
        "id": "eQtimPrfxy0P"
      },
      "execution_count": null,
      "outputs": []
    },
    {
      "cell_type": "code",
      "source": [
        "#copy df to df_copy\n",
        "df_copy2 = df.copy()"
      ],
      "metadata": {
        "id": "IDkVeHfOxzme"
      },
      "execution_count": null,
      "outputs": []
    },
    {
      "cell_type": "code",
      "source": [
        "#replace quality with ratings\n",
        "df_copy2 = df_copy2.replace({'quality' : {\n",
        "                                    8 : 'Good',\n",
        "                                    7 : 'Good',\n",
        "                                    6 : 'Good',\n",
        "                                    5 : 'Bad',\n",
        "                                    4 : 'Bad',\n",
        "                                    3 : 'Bad'}})"
      ],
      "metadata": {
        "id": "-5c6OMOmxzmf"
      },
      "execution_count": null,
      "outputs": []
    },
    {
      "cell_type": "code",
      "source": [
        "#count values in quality column\n",
        "column_name = 'quality'\n",
        "\n",
        "# Calculate the value counts for the column\n",
        "value_counts = df_copy2[column_name].value_counts()\n",
        "\n",
        "print(\"Unique values and their counts in column '{}':\".format(column_name))\n",
        "print(value_counts)"
      ],
      "metadata": {
        "colab": {
          "base_uri": "https://localhost:8080/"
        },
        "outputId": "cb5a570c-57e5-4e23-da1f-eef9dff376cb",
        "id": "klZHRdbGxzmf"
      },
      "execution_count": null,
      "outputs": [
        {
          "output_type": "stream",
          "name": "stdout",
          "text": [
            "Unique values and their counts in column 'quality':\n",
            "Good    855\n",
            "Bad     744\n",
            "Name: quality, dtype: int64\n"
          ]
        }
      ]
    },
    {
      "cell_type": "code",
      "source": [
        "value_counts"
      ],
      "metadata": {
        "colab": {
          "base_uri": "https://localhost:8080/"
        },
        "id": "01t8K-oWpuGH",
        "outputId": "926686e4-74c5-44bd-954c-e47aa13580fe"
      },
      "execution_count": null,
      "outputs": [
        {
          "output_type": "execute_result",
          "data": {
            "text/plain": [
              "Good    855\n",
              "Bad     744\n",
              "Name: quality, dtype: int64"
            ]
          },
          "metadata": {},
          "execution_count": 130
        }
      ]
    },
    {
      "cell_type": "code",
      "source": [
        "normalized_counts = (value_counts - value_counts.min()) / (value_counts.max() - value_counts.min())* 0.8 + 0.2\n",
        "\n",
        "# Define colors based on normalized counts\n",
        "colors = plt.cm.Blues(normalized_counts)\n",
        "\n",
        "# Plotting\n",
        "plt.figure(figsize=(5, 4))\n",
        "value_counts.plot(kind='bar', color=colors)\n",
        "plt.xlabel('Quality score')\n",
        "plt.ylabel('Counts')\n",
        "plt.title('Class Distribution of binary classification with threshold >=6')\n",
        "plt.xticks(rotation=45)  # Rotate x-labels for better visibility if needed\n",
        "plt.tight_layout()  # Adjust layout to prevent clipping of labels\n",
        "plt.show()"
      ],
      "metadata": {
        "colab": {
          "base_uri": "https://localhost:8080/",
          "height": 407
        },
        "id": "grq_mecxpTRf",
        "outputId": "ac575515-37bb-440f-e5ae-467f5d10e68d"
      },
      "execution_count": null,
      "outputs": [
        {
          "output_type": "display_data",
          "data": {
            "text/plain": [
              "<Figure size 500x400 with 1 Axes>"
            ],
            "image/png": "[encoded data removed]"
          },
          "metadata": {}
        }
      ]
    },
    {
      "cell_type": "code",
      "source": [
        "#extract features and class\n",
        "X_3 = df_copy2[['fixed acidity','volatile acidity','citric acid','residual sugar','chlorides','free sulfur dioxide','total sulfur dioxide','density','pH','sulphates','alcohol']]\n",
        "y_3 = df_copy2['quality']"
      ],
      "metadata": {
        "id": "UEaWlu3Uxzmf"
      },
      "execution_count": null,
      "outputs": []
    },
    {
      "cell_type": "code",
      "source": [
        "#train-test split keeping ratio of each training class equal using stratify\n",
        "Shuffle_state = 4720\n",
        "X_trainunscaled, X_testunscaled, y_train, y_test = train_test_split(X_3,y_3, test_size=0.25,random_state=4720,stratify = y)"
      ],
      "metadata": {
        "id": "Zt3EaFtVxzmg"
      },
      "execution_count": null,
      "outputs": []
    },
    {
      "cell_type": "code",
      "source": [
        "#Scaling of train set\n",
        "scaler = StandardScaler()\n",
        "X_train = scaler.fit_transform(X_trainunscaled)"
      ],
      "metadata": {
        "id": "lZPSUhR7xzmg"
      },
      "execution_count": null,
      "outputs": []
    },
    {
      "cell_type": "code",
      "source": [
        "#Scaling of test set\n",
        "scaler = StandardScaler()\n",
        "X_test = scaler.fit_transform(X_testunscaled)"
      ],
      "metadata": {
        "id": "1f5qdO8Cxzmg"
      },
      "execution_count": null,
      "outputs": []
    },
    {
      "cell_type": "code",
      "source": [
        "#ratio of total data\n",
        "ratio = (df_copy2['quality'].value_counts()/ len(df_copy2))*100\n",
        "ratio"
      ],
      "metadata": {
        "colab": {
          "base_uri": "https://localhost:8080/"
        },
        "outputId": "874190fa-0ccc-4d70-9f4e-29ac9a7a5636",
        "id": "sXy4zLNwxzmg"
      },
      "execution_count": null,
      "outputs": [
        {
          "output_type": "execute_result",
          "data": {
            "text/plain": [
              "Good    53.470919\n",
              "Bad     46.529081\n",
              "Name: quality, dtype: float64"
            ]
          },
          "metadata": {},
          "execution_count": 30
        }
      ]
    },
    {
      "cell_type": "code",
      "source": [
        "#ratio of test data\n",
        "ratio = (y_test.value_counts())\n",
        "ratio"
      ],
      "metadata": {
        "colab": {
          "base_uri": "https://localhost:8080/"
        },
        "outputId": "45db34c1-b9d4-4bcd-8ec2-56b8f7050f00",
        "id": "R0o9vkefxzmg"
      },
      "execution_count": null,
      "outputs": [
        {
          "output_type": "execute_result",
          "data": {
            "text/plain": [
              "Good    215\n",
              "Bad     185\n",
              "Name: quality, dtype: int64"
            ]
          },
          "metadata": {},
          "execution_count": 69
        }
      ]
    },
    {
      "cell_type": "code",
      "source": [
        "#ratio of test data\n",
        "ratio = (y_test.value_counts()/ df_copy2['quality'].value_counts())*100\n",
        "ratio"
      ],
      "metadata": {
        "colab": {
          "base_uri": "https://localhost:8080/"
        },
        "outputId": "9c896209-f80d-45dd-86fd-eca10ea74306",
        "id": "FMgHGgbDxzmg"
      },
      "execution_count": null,
      "outputs": [
        {
          "output_type": "execute_result",
          "data": {
            "text/plain": [
              "Good    25.146199\n",
              "Bad     24.865591\n",
              "Name: quality, dtype: float64"
            ]
          },
          "metadata": {},
          "execution_count": 70
        }
      ]
    },
    {
      "cell_type": "code",
      "source": [
        "#ratio of test data\n",
        "ratio = (y_train.value_counts()/ df_copy2['quality'].value_counts())*100\n",
        "ratio"
      ],
      "metadata": {
        "colab": {
          "base_uri": "https://localhost:8080/"
        },
        "outputId": "4319c37b-049a-40de-f510-8044599bb7c0",
        "id": "FY8eucKPxzmg"
      },
      "execution_count": null,
      "outputs": [
        {
          "output_type": "execute_result",
          "data": {
            "text/plain": [
              "Good    74.853801\n",
              "Bad     75.134409\n",
              "Name: quality, dtype: float64"
            ]
          },
          "metadata": {},
          "execution_count": 71
        }
      ]
    },
    {
      "cell_type": "code",
      "source": [
        "#model evaluation function\n",
        "labels = ['Bad', 'Good']\n",
        "def model_evaluation(y_test,y_prediction,labels):\n",
        "    Accuracy = accuracy_score(y_test, y_prediction)\n",
        "    print(\"Accuracy: \" + str(Accuracy*100))\n",
        "    cm = confusion_matrix(y_test, y_prediction)\n",
        "    print(cm)"
      ],
      "metadata": {
        "id": "a8L2OBxZxzmh"
      },
      "execution_count": null,
      "outputs": []
    },
    {
      "cell_type": "markdown",
      "source": [
        "## NON BAYESIAN METHODS"
      ],
      "metadata": {
        "id": "JK6ebS4cxzmh"
      }
    },
    {
      "cell_type": "markdown",
      "source": [
        "### SVM"
      ],
      "metadata": {
        "id": "bSh5x5bOxzmh"
      }
    },
    {
      "cell_type": "code",
      "source": [
        "#parameters for cross validation for SVM\n",
        "svm_param_grid = {'C': [0.01,0.1, 1,100],'gamma': [0.001, 0.01, 1, 10, 100]}"
      ],
      "metadata": {
        "id": "ADqSgXJAxzmh"
      },
      "execution_count": null,
      "outputs": []
    },
    {
      "cell_type": "code",
      "source": [
        "#Hyperparameter tuning for SVM using random search\n",
        "start_time = time.time()\n",
        "svc = SVC(kernel='rbf')\n",
        "#svc_grid = GridSearchCV(svc, svm_param_grid,cv=5)\n",
        "svc_grid = RandomizedSearchCV(estimator = svc, param_distributions = svm_param_grid, cv=5, random_state = 42)\n",
        "svc_grid.fit(X_train, y_train)\n",
        "best_svc_params = svc_grid.best_params_\n",
        "best_svc = svc_grid.best_estimator_\n",
        "end_time = time.time()\n",
        "runtime = end_time - start_time\n",
        "print(\"Runtime:\", runtime, \"seconds\")"
      ],
      "metadata": {
        "colab": {
          "base_uri": "https://localhost:8080/"
        },
        "outputId": "7915e15d-b382-48b3-a558-b8797e9ea3e3",
        "id": "DZVBz_Sixzmh"
      },
      "execution_count": null,
      "outputs": [
        {
          "output_type": "stream",
          "name": "stdout",
          "text": [
            "Runtime: 2.0099494457244873 seconds\n"
          ]
        }
      ]
    },
    {
      "cell_type": "code",
      "source": [
        "#Best SVC parameter from the random search\n",
        "print('{}:{}'.format(best_svc_params,best_svc))"
      ],
      "metadata": {
        "colab": {
          "base_uri": "https://localhost:8080/"
        },
        "outputId": "9a7f75d1-876d-4191-d9b5-6229396bfc50",
        "id": "8AfD6vXKxzmh"
      },
      "execution_count": null,
      "outputs": [
        {
          "output_type": "stream",
          "name": "stdout",
          "text": [
            "{'gamma': 0.01, 'C': 100}:SVC(C=100, gamma=0.01)\n"
          ]
        }
      ]
    },
    {
      "cell_type": "code",
      "source": [
        "#SVM model training using best random search parameters\n",
        "\n",
        "clf_svm = SVC(C=100,gamma=0.01)\n",
        "clf_svm.fit(X_train, y_train)\n",
        "y_prediction_svm = clf_svm.predict(X_test)"
      ],
      "metadata": {
        "id": "SvgUOiOTxzmh"
      },
      "execution_count": null,
      "outputs": []
    },
    {
      "cell_type": "code",
      "source": [
        "#SVM model evaluation for random search\n",
        "model_evaluation(y_test,y_prediction_svm,labels)"
      ],
      "metadata": {
        "colab": {
          "base_uri": "https://localhost:8080/"
        },
        "outputId": "cbe755b3-288d-4b5e-d889-01ea31db3c51",
        "id": "MsVdFt8Nxzmi"
      },
      "execution_count": null,
      "outputs": [
        {
          "output_type": "stream",
          "name": "stdout",
          "text": [
            "Accuracy: 73.75\n",
            "[[135  50]\n",
            " [ 55 160]]\n"
          ]
        }
      ]
    },
    {
      "cell_type": "code",
      "source": [
        "#Hyperparameter tuning for SVM using gridsearch\n",
        "start_time = time.time()\n",
        "svc2 = SVC(kernel='rbf')\n",
        "svc_grid2 = GridSearchCV(svc2, svm_param_grid,cv=5)\n",
        "#svc_grid = RandomizedSearchCV(estimator = svc, param_distributions = svm_param_grid, cv=5, random_state = 42)\n",
        "svc_grid2.fit(X_train, y_train)\n",
        "best_svc_params2 = svc_grid2.best_params_\n",
        "best_svc2 = svc_grid2.best_estimator_\n",
        "end_time = time.time()\n",
        "runtime = end_time - start_time\n",
        "print(\"Runtime:\", runtime, \"seconds\")"
      ],
      "metadata": {
        "colab": {
          "base_uri": "https://localhost:8080/"
        },
        "outputId": "99a6ca36-ec10-49c1-fdf4-3096abaeeb62",
        "id": "q7OofIShxzmi"
      },
      "execution_count": null,
      "outputs": [
        {
          "output_type": "stream",
          "name": "stdout",
          "text": [
            "Runtime: 5.387928009033203 seconds\n"
          ]
        }
      ]
    },
    {
      "cell_type": "code",
      "source": [
        "#Best SVC parameter from the grid search\n",
        "print('{}:{}'.format(best_svc_params2,best_svc2))"
      ],
      "metadata": {
        "colab": {
          "base_uri": "https://localhost:8080/"
        },
        "outputId": "d54cfa1e-d7c2-4646-a1cd-6a9a92c9ca6a",
        "id": "OG2HJp_hxzmi"
      },
      "execution_count": null,
      "outputs": [
        {
          "output_type": "stream",
          "name": "stdout",
          "text": [
            "{'C': 100, 'gamma': 0.01}:SVC(C=100, gamma=0.01)\n"
          ]
        }
      ]
    },
    {
      "cell_type": "code",
      "source": [
        "#SVM model training using grid search parameters\n",
        "clf_svm2 = SVC(C=100,gamma=0.01, kernel='rbf')\n",
        "clf_svm2.fit(X_train, y_train)\n",
        "y_prediction_svm2 = clf_svm2.predict(X_test)"
      ],
      "metadata": {
        "id": "JOSwz0Vdxzmi"
      },
      "execution_count": null,
      "outputs": []
    },
    {
      "cell_type": "code",
      "source": [
        "#SVM model evaluation\n",
        "model_evaluation(y_test,y_prediction_svm2,labels)"
      ],
      "metadata": {
        "colab": {
          "base_uri": "https://localhost:8080/"
        },
        "outputId": "83f9a736-fb51-485d-e613-676b35af311e",
        "id": "sI7_sOGdxzmi"
      },
      "execution_count": null,
      "outputs": [
        {
          "output_type": "stream",
          "name": "stdout",
          "text": [
            "Accuracy: 73.75\n",
            "[[135  50]\n",
            " [ 55 160]]\n"
          ]
        }
      ]
    },
    {
      "cell_type": "markdown",
      "source": [
        "### Logistic Regression"
      ],
      "metadata": {
        "id": "Paj2aKphxzmi"
      }
    },
    {
      "cell_type": "code",
      "source": [
        "#parameters for grid search for Logistic Regression\n",
        "LR_param_grid = {'C': [ 0.001, 0.5, 1, 10]}"
      ],
      "metadata": {
        "id": "6_unLU0Uxzmi"
      },
      "execution_count": null,
      "outputs": []
    },
    {
      "cell_type": "code",
      "source": [
        "#Hyperparameter tuning for LR using gridsearch\n",
        "start_time = time.time()\n",
        "LR = LogisticRegression(max_iter = 2000)\n",
        "LR_grid = GridSearchCV(LR, LR_param_grid,cv=5)\n",
        "#LR_grid = RandomizedSearchCV(estimator = LR, param_distributions = LR_param_grid, cv=5, random_state=42)\n",
        "LR_grid.fit(X_train, y_train)\n",
        "best_LR_params = LR_grid.best_params_\n",
        "best_LR = LR_grid.best_estimator_\n",
        "end_time = time.time()\n",
        "runtime = end_time - start_time\n",
        "print(\"Runtime:\", runtime, \"seconds\")"
      ],
      "metadata": {
        "colab": {
          "base_uri": "https://localhost:8080/"
        },
        "outputId": "0310ed03-ef4d-4298-ab4d-15d67b18dac2",
        "id": "rhlC7jJWxzmi"
      },
      "execution_count": null,
      "outputs": [
        {
          "output_type": "stream",
          "name": "stdout",
          "text": [
            "Runtime: 0.14393067359924316 seconds\n"
          ]
        }
      ]
    },
    {
      "cell_type": "code",
      "source": [
        "#Best LR parameter from the grid search\n",
        "print('{}'.format(best_LR_params))"
      ],
      "metadata": {
        "colab": {
          "base_uri": "https://localhost:8080/"
        },
        "outputId": "72cc55d5-7fc5-4b00-d495-b388804f97ec",
        "id": "hjNmfugTxzmi"
      },
      "execution_count": null,
      "outputs": [
        {
          "output_type": "stream",
          "name": "stdout",
          "text": [
            "{'C': 10}\n"
          ]
        }
      ]
    },
    {
      "cell_type": "code",
      "source": [
        "#LR model training\n",
        "\n",
        "clf_lr = LogisticRegression(C = 10)\n",
        "clf_lr.fit(X_train, y_train)\n",
        "y_prediction_lr = clf_lr.predict(X_test)"
      ],
      "metadata": {
        "id": "2vCsn1MMxzmj"
      },
      "execution_count": null,
      "outputs": []
    },
    {
      "cell_type": "code",
      "source": [
        "#LR model evaluation\n",
        "model_evaluation(y_test,y_prediction_lr,labels)"
      ],
      "metadata": {
        "colab": {
          "base_uri": "https://localhost:8080/"
        },
        "outputId": "96e586b9-49bd-4c15-a352-3ae51fbeb431",
        "id": "qUGyNjKVxzmj"
      },
      "execution_count": null,
      "outputs": [
        {
          "output_type": "stream",
          "name": "stdout",
          "text": [
            "Accuracy: 72.75\n",
            "[[132  53]\n",
            " [ 56 159]]\n"
          ]
        }
      ]
    },
    {
      "cell_type": "markdown",
      "source": [
        "### Random Forest"
      ],
      "metadata": {
        "id": "RN86tT8oxzmj"
      }
    },
    {
      "cell_type": "code",
      "source": [
        "from scipy import stats"
      ],
      "metadata": {
        "id": "vlRvVOkmxzmj"
      },
      "execution_count": null,
      "outputs": []
    },
    {
      "cell_type": "code",
      "source": [
        "#parameters for hyperparameter tuning for Random Forest\n",
        "RF_param_grid = {'n_estimators': [100, 200, 300, 400, 500], 'max_depth': [10, 20, 30, 40, 50],'min_samples_split': list(stats.randint(1, 30 + 1).rvs(size=29)), 'min_samples_leaf': list(stats.randint(1, 30 + 1).rvs(size=29))}"
      ],
      "metadata": {
        "id": "kgVfwRUhxzmj"
      },
      "execution_count": null,
      "outputs": []
    },
    {
      "cell_type": "code",
      "source": [
        "#parameters for hyperparameter tuning for Random Forest\n",
        "RF_param_grid = {'n_estimators': [100, 200, 300], 'max_depth': [10, 20, 30],'min_samples_split': list(range(2,5)), 'min_samples_leaf': list(range(2,5))}"
      ],
      "metadata": {
        "id": "wjpqkYFxxzmj"
      },
      "execution_count": null,
      "outputs": []
    },
    {
      "cell_type": "code",
      "source": [
        "#Random search for hyperparameter tuning for random forest\n",
        "start_time = time.time()\n",
        "RF = RandomForestClassifier(random_state=42)\n",
        "RF_grid = RandomizedSearchCV(estimator = RF, param_distributions = RF_param_grid, cv=5, random_state=42)\n",
        "#RF_grid = GridSearchCV(RF, RF_param_grid,cv=5)\n",
        "RF_grid.fit(X_train, y_train)\n",
        "best_RF_params = RF_grid.best_params_\n",
        "best_RF = RF_grid.best_estimator_\n",
        "end_time = time.time()\n",
        "runtime = end_time - start_time\n",
        "print(\"Runtime:\", runtime, \"seconds\")"
      ],
      "metadata": {
        "colab": {
          "base_uri": "https://localhost:8080/"
        },
        "outputId": "da442e20-dbcc-4110-9f8b-cca98dfeb733",
        "id": "ciqi_vd1xzmj"
      },
      "execution_count": null,
      "outputs": [
        {
          "output_type": "stream",
          "name": "stdout",
          "text": [
            "Runtime: 19.420964002609253 seconds\n"
          ]
        }
      ]
    },
    {
      "cell_type": "code",
      "source": [
        "#Best hyperparameter from the random forest\n",
        "print('{}'.format(best_RF_params))"
      ],
      "metadata": {
        "colab": {
          "base_uri": "https://localhost:8080/"
        },
        "outputId": "aad4b39e-7791-4b37-fde8-aa918faf0246",
        "id": "_wxyAv26xzmj"
      },
      "execution_count": null,
      "outputs": [
        {
          "output_type": "stream",
          "name": "stdout",
          "text": [
            "{'n_estimators': 200, 'min_samples_split': 3, 'min_samples_leaf': 2, 'max_depth': 20}\n"
          ]
        }
      ]
    },
    {
      "cell_type": "code",
      "source": [
        "#RF model training\n",
        "clf_RF = RandomForestClassifier(n_estimators = 200, random_state=42, max_depth = 20,min_samples_leaf = 2,min_samples_split= 3)\n",
        "clf_RF.fit(X_train, y_train)\n",
        "y_prediction_RF = clf_RF.predict(X_test)"
      ],
      "metadata": {
        "id": "uAy0ZNdCxzmj"
      },
      "execution_count": null,
      "outputs": []
    },
    {
      "cell_type": "code",
      "source": [
        "#RF model evaluation\n",
        "model_evaluation(y_test,y_prediction_RF,labels)"
      ],
      "metadata": {
        "colab": {
          "base_uri": "https://localhost:8080/"
        },
        "outputId": "dc48ce80-2c33-4990-a778-b4db891402a6",
        "id": "F2y-D9fLxzmj"
      },
      "execution_count": null,
      "outputs": [
        {
          "output_type": "stream",
          "name": "stdout",
          "text": [
            "Accuracy: 79.0\n",
            "[[147  38]\n",
            " [ 46 169]]\n"
          ]
        }
      ]
    },
    {
      "cell_type": "markdown",
      "source": [
        "### KNN"
      ],
      "metadata": {
        "id": "n-nMtDxaxzmj"
      }
    },
    {
      "cell_type": "code",
      "source": [
        "knn_param_grid = {\n",
        "    'n_neighbors': list(range(1, 10))\n",
        "}"
      ],
      "metadata": {
        "id": "uvs5ag-Jxzmj"
      },
      "execution_count": null,
      "outputs": []
    },
    {
      "cell_type": "code",
      "source": [
        "#Grid search for hyperparameter tuning for knn\n",
        "start_time = time.time()\n",
        "knn_model = KNeighborsClassifier()\n",
        "knn_grid = GridSearchCV(knn_model, knn_param_grid, cv=5)\n",
        "#knn_grid = RandomizedSearchCV(estimator = knn_model, param_distributions = knn_param_grid, cv=10, random_state=42)\n",
        "knn_grid.fit(X_train, y_train)\n",
        "best_knn_params = knn_grid.best_params_\n",
        "best_knn = knn_grid.best_estimator_\n",
        "end_time = time.time()\n",
        "runtime = end_time - start_time\n",
        "print(\"Runtime:\", runtime, \"seconds\")"
      ],
      "metadata": {
        "colab": {
          "base_uri": "https://localhost:8080/"
        },
        "outputId": "db0b4aec-9d81-447c-b32a-0241b1134f9a",
        "id": "cwTqu-nNxzmj"
      },
      "execution_count": null,
      "outputs": [
        {
          "output_type": "stream",
          "name": "stdout",
          "text": [
            "Runtime: 0.675246000289917 seconds\n"
          ]
        }
      ]
    },
    {
      "cell_type": "code",
      "source": [
        "#Best hyperparameter from the knn\n",
        "print('{}'.format(best_knn_params))"
      ],
      "metadata": {
        "colab": {
          "base_uri": "https://localhost:8080/"
        },
        "outputId": "e9f798f8-b44e-4d16-f3a9-af7f57e0abe6",
        "id": "bsCYJP0jxzmk"
      },
      "execution_count": null,
      "outputs": [
        {
          "output_type": "stream",
          "name": "stdout",
          "text": [
            "{'n_neighbors': 1}\n"
          ]
        }
      ]
    },
    {
      "cell_type": "code",
      "source": [
        "#RF model training\n",
        "clf_knn = KNeighborsClassifier(n_neighbors = 1)\n",
        "clf_knn.fit(X_train, y_train)\n",
        "knn_predictions = clf_knn.predict(X_test)"
      ],
      "metadata": {
        "id": "zlgSPf1Qxzmk"
      },
      "execution_count": null,
      "outputs": []
    },
    {
      "cell_type": "code",
      "source": [
        "#KNN model evaluation\n",
        "model_evaluation(y_test,knn_predictions,labels)"
      ],
      "metadata": {
        "colab": {
          "base_uri": "https://localhost:8080/"
        },
        "outputId": "7e32705c-7593-45a6-da9e-4c199a9fc4d8",
        "id": "7qlBhijbxzmk"
      },
      "execution_count": null,
      "outputs": [
        {
          "output_type": "stream",
          "name": "stdout",
          "text": [
            "Accuracy: 75.5\n",
            "[[140  45]\n",
            " [ 53 162]]\n"
          ]
        }
      ]
    },
    {
      "cell_type": "markdown",
      "source": [
        "### MLP"
      ],
      "metadata": {
        "id": "HIV7O7DK03B0"
      }
    },
    {
      "cell_type": "code",
      "source": [
        "#hyperparameters for the mlp\n",
        "mlp_param_grid = {'hidden_layer_sizes': [(50), (50,50), (100,100,100)], 'alpha': [0.0001, 0.001, 0.01], 'activation': ['relu', 'tanh'],'solver': ['adam', 'sgd'], 'max_iter': [300, 400, 500]}"
      ],
      "metadata": {
        "id": "ycl2m35xxzmk"
      },
      "execution_count": null,
      "outputs": []
    },
    {
      "cell_type": "code",
      "source": [
        "#Random search for hyperparameter tuning for mlp\n",
        "start_time = time.time()\n",
        "mlp_classifier = MLPClassifier(random_state=42)\n",
        "mlp_grid = RandomizedSearchCV(estimator = mlp_classifier, param_distributions = mlp_param_grid, cv=5, random_state=42)\n",
        "mlp_grid.fit(X_train, y_train)\n",
        "best_mlp_params = mlp_grid.best_params_\n",
        "best_mlp = mlp_grid.best_estimator_\n",
        "end_time = time.time()\n",
        "runtime = end_time - start_time\n",
        "print(\"Runtime:\", runtime, \"seconds\")"
      ],
      "metadata": {
        "colab": {
          "base_uri": "https://localhost:8080/"
        },
        "outputId": "4118ed4d-b223-4b64-e9de-59434bc1f80c",
        "id": "_MiZNdTCxzmk"
      },
      "execution_count": null,
      "outputs": [
        {
          "output_type": "stream",
          "name": "stderr",
          "text": [
            "/usr/local/lib/python3.10/dist-packages/sklearn/neural_network/_multilayer_perceptron.py:686: ConvergenceWarning: Stochastic Optimizer: Maximum iterations (500) reached and the optimization hasn't converged yet.\n",
            "  warnings.warn(\n",
            "/usr/local/lib/python3.10/dist-packages/sklearn/neural_network/_multilayer_perceptron.py:686: ConvergenceWarning: Stochastic Optimizer: Maximum iterations (500) reached and the optimization hasn't converged yet.\n",
            "  warnings.warn(\n",
            "/usr/local/lib/python3.10/dist-packages/sklearn/neural_network/_multilayer_perceptron.py:686: ConvergenceWarning: Stochastic Optimizer: Maximum iterations (500) reached and the optimization hasn't converged yet.\n",
            "  warnings.warn(\n",
            "/usr/local/lib/python3.10/dist-packages/sklearn/neural_network/_multilayer_perceptron.py:686: ConvergenceWarning: Stochastic Optimizer: Maximum iterations (500) reached and the optimization hasn't converged yet.\n",
            "  warnings.warn(\n",
            "/usr/local/lib/python3.10/dist-packages/sklearn/neural_network/_multilayer_perceptron.py:686: ConvergenceWarning: Stochastic Optimizer: Maximum iterations (500) reached and the optimization hasn't converged yet.\n",
            "  warnings.warn(\n",
            "/usr/local/lib/python3.10/dist-packages/sklearn/neural_network/_multilayer_perceptron.py:686: ConvergenceWarning: Stochastic Optimizer: Maximum iterations (500) reached and the optimization hasn't converged yet.\n",
            "  warnings.warn(\n",
            "/usr/local/lib/python3.10/dist-packages/sklearn/neural_network/_multilayer_perceptron.py:686: ConvergenceWarning: Stochastic Optimizer: Maximum iterations (500) reached and the optimization hasn't converged yet.\n",
            "  warnings.warn(\n",
            "/usr/local/lib/python3.10/dist-packages/sklearn/neural_network/_multilayer_perceptron.py:686: ConvergenceWarning: Stochastic Optimizer: Maximum iterations (500) reached and the optimization hasn't converged yet.\n",
            "  warnings.warn(\n",
            "/usr/local/lib/python3.10/dist-packages/sklearn/neural_network/_multilayer_perceptron.py:686: ConvergenceWarning: Stochastic Optimizer: Maximum iterations (500) reached and the optimization hasn't converged yet.\n",
            "  warnings.warn(\n",
            "/usr/local/lib/python3.10/dist-packages/sklearn/neural_network/_multilayer_perceptron.py:686: ConvergenceWarning: Stochastic Optimizer: Maximum iterations (500) reached and the optimization hasn't converged yet.\n",
            "  warnings.warn(\n",
            "/usr/local/lib/python3.10/dist-packages/sklearn/neural_network/_multilayer_perceptron.py:686: ConvergenceWarning: Stochastic Optimizer: Maximum iterations (400) reached and the optimization hasn't converged yet.\n",
            "  warnings.warn(\n",
            "/usr/local/lib/python3.10/dist-packages/sklearn/neural_network/_multilayer_perceptron.py:686: ConvergenceWarning: Stochastic Optimizer: Maximum iterations (400) reached and the optimization hasn't converged yet.\n",
            "  warnings.warn(\n",
            "/usr/local/lib/python3.10/dist-packages/sklearn/neural_network/_multilayer_perceptron.py:686: ConvergenceWarning: Stochastic Optimizer: Maximum iterations (400) reached and the optimization hasn't converged yet.\n",
            "  warnings.warn(\n",
            "/usr/local/lib/python3.10/dist-packages/sklearn/neural_network/_multilayer_perceptron.py:686: ConvergenceWarning: Stochastic Optimizer: Maximum iterations (400) reached and the optimization hasn't converged yet.\n",
            "  warnings.warn(\n",
            "/usr/local/lib/python3.10/dist-packages/sklearn/neural_network/_multilayer_perceptron.py:686: ConvergenceWarning: Stochastic Optimizer: Maximum iterations (400) reached and the optimization hasn't converged yet.\n",
            "  warnings.warn(\n",
            "/usr/local/lib/python3.10/dist-packages/sklearn/neural_network/_multilayer_perceptron.py:686: ConvergenceWarning: Stochastic Optimizer: Maximum iterations (400) reached and the optimization hasn't converged yet.\n",
            "  warnings.warn(\n",
            "/usr/local/lib/python3.10/dist-packages/sklearn/neural_network/_multilayer_perceptron.py:686: ConvergenceWarning: Stochastic Optimizer: Maximum iterations (400) reached and the optimization hasn't converged yet.\n",
            "  warnings.warn(\n",
            "/usr/local/lib/python3.10/dist-packages/sklearn/neural_network/_multilayer_perceptron.py:686: ConvergenceWarning: Stochastic Optimizer: Maximum iterations (400) reached and the optimization hasn't converged yet.\n",
            "  warnings.warn(\n",
            "/usr/local/lib/python3.10/dist-packages/sklearn/neural_network/_multilayer_perceptron.py:686: ConvergenceWarning: Stochastic Optimizer: Maximum iterations (400) reached and the optimization hasn't converged yet.\n",
            "  warnings.warn(\n",
            "/usr/local/lib/python3.10/dist-packages/sklearn/neural_network/_multilayer_perceptron.py:686: ConvergenceWarning: Stochastic Optimizer: Maximum iterations (400) reached and the optimization hasn't converged yet.\n",
            "  warnings.warn(\n",
            "/usr/local/lib/python3.10/dist-packages/sklearn/neural_network/_multilayer_perceptron.py:686: ConvergenceWarning: Stochastic Optimizer: Maximum iterations (500) reached and the optimization hasn't converged yet.\n",
            "  warnings.warn(\n",
            "/usr/local/lib/python3.10/dist-packages/sklearn/neural_network/_multilayer_perceptron.py:686: ConvergenceWarning: Stochastic Optimizer: Maximum iterations (500) reached and the optimization hasn't converged yet.\n",
            "  warnings.warn(\n",
            "/usr/local/lib/python3.10/dist-packages/sklearn/neural_network/_multilayer_perceptron.py:686: ConvergenceWarning: Stochastic Optimizer: Maximum iterations (500) reached and the optimization hasn't converged yet.\n",
            "  warnings.warn(\n",
            "/usr/local/lib/python3.10/dist-packages/sklearn/neural_network/_multilayer_perceptron.py:686: ConvergenceWarning: Stochastic Optimizer: Maximum iterations (500) reached and the optimization hasn't converged yet.\n",
            "  warnings.warn(\n"
          ]
        },
        {
          "output_type": "stream",
          "name": "stdout",
          "text": [
            "Runtime: 79.87366223335266 seconds\n"
          ]
        },
        {
          "output_type": "stream",
          "name": "stderr",
          "text": [
            "/usr/local/lib/python3.10/dist-packages/sklearn/neural_network/_multilayer_perceptron.py:686: ConvergenceWarning: Stochastic Optimizer: Maximum iterations (400) reached and the optimization hasn't converged yet.\n",
            "  warnings.warn(\n"
          ]
        }
      ]
    },
    {
      "cell_type": "code",
      "source": [
        "print('{}:{}'.format(best_mlp_params,best_mlp))"
      ],
      "metadata": {
        "colab": {
          "base_uri": "https://localhost:8080/"
        },
        "outputId": "ac0b6101-38f3-468a-bf3e-57c7e6c02fed",
        "id": "6uvOwKsfxzmk"
      },
      "execution_count": null,
      "outputs": [
        {
          "output_type": "stream",
          "name": "stdout",
          "text": [
            "{'solver': 'adam', 'max_iter': 400, 'hidden_layer_sizes': (50, 50), 'alpha': 0.0001, 'activation': 'tanh'}:MLPClassifier(activation='tanh', hidden_layer_sizes=(50, 50), max_iter=400,\n",
            "              random_state=42)\n"
          ]
        }
      ]
    },
    {
      "cell_type": "code",
      "source": [
        "#mlp training\n",
        "mlp = MLPClassifier(alpha=0.0001, hidden_layer_sizes=(50,50),solver = 'adam',activation = 'tanh',max_iter= 400, random_state = 42)\n",
        "mlp.fit(X_train, y_train)\n",
        "y_prediction_mlp = mlp.predict(X_test)"
      ],
      "metadata": {
        "id": "Mrjf7XGZxzmk",
        "colab": {
          "base_uri": "https://localhost:8080/"
        },
        "outputId": "fbadbe24-6470-4b6c-afca-aabdeb2ef4da"
      },
      "execution_count": null,
      "outputs": [
        {
          "output_type": "stream",
          "name": "stderr",
          "text": [
            "/usr/local/lib/python3.10/dist-packages/sklearn/neural_network/_multilayer_perceptron.py:686: ConvergenceWarning: Stochastic Optimizer: Maximum iterations (400) reached and the optimization hasn't converged yet.\n",
            "  warnings.warn(\n"
          ]
        }
      ]
    },
    {
      "cell_type": "code",
      "source": [
        "#MLP model evaluation\n",
        "model_evaluation(y_test,y_prediction_mlp,labels)"
      ],
      "metadata": {
        "colab": {
          "base_uri": "https://localhost:8080/"
        },
        "outputId": "4e1e5094-7106-4e8c-8b8e-20a8d55d5684",
        "id": "aA4mQd6Oxzmk"
      },
      "execution_count": null,
      "outputs": [
        {
          "output_type": "stream",
          "name": "stdout",
          "text": [
            "Accuracy: 73.75\n",
            "[[131  54]\n",
            " [ 51 164]]\n"
          ]
        }
      ]
    },
    {
      "cell_type": "markdown",
      "source": [
        "### Naive Bayes"
      ],
      "metadata": {
        "id": "yoDbNganxzmk"
      }
    },
    {
      "cell_type": "code",
      "source": [
        "param_grid = {\n",
        "    'priors': [None, [0.3, 0.7], [0.1, 0.9]],\n",
        "    'var_smoothing': [1e-9, 1e-8, 1e-7]\n",
        "}"
      ],
      "metadata": {
        "id": "wzoRNY9mxzmk"
      },
      "execution_count": null,
      "outputs": []
    },
    {
      "cell_type": "code",
      "source": [
        "#Grid search for hyperparameter tuning for naive bayes\n",
        "start_time = time.time()\n",
        "nb_model = GaussianNB()\n",
        "nb_grid = GridSearchCV(nb_model, param_grid, cv=5)\n",
        "nb_grid.fit(X_train, y_train)\n",
        "best_nb_params = nb_grid.best_params_\n",
        "best_nb = nb_grid.best_estimator_\n",
        "end_time = time.time()\n",
        "runtime = end_time - start_time\n",
        "print(\"Runtime:\", runtime, \"seconds\")"
      ],
      "metadata": {
        "colab": {
          "base_uri": "https://localhost:8080/"
        },
        "outputId": "c130a134-a9ca-414b-fb75-db32dd969322",
        "id": "Eg5dQAc3xzmk"
      },
      "execution_count": null,
      "outputs": [
        {
          "output_type": "stream",
          "name": "stdout",
          "text": [
            "Runtime: 0.11601877212524414 seconds\n"
          ]
        }
      ]
    },
    {
      "cell_type": "code",
      "source": [
        "#Best hyperparameter from the naive bayes\n",
        "print('{}'.format(best_nb))"
      ],
      "metadata": {
        "colab": {
          "base_uri": "https://localhost:8080/"
        },
        "outputId": "20de1b12-c8b9-4505-d2d2-64c579b96476",
        "id": "ErcsiOH6xzml"
      },
      "execution_count": null,
      "outputs": [
        {
          "output_type": "stream",
          "name": "stdout",
          "text": [
            "GaussianNB()\n"
          ]
        }
      ]
    },
    {
      "cell_type": "code",
      "source": [
        "#RF model training\n",
        "clf_nb = GaussianNB()\n",
        "clf_nb.fit(X_train, y_train)\n",
        "nb_predictions = clf_nb.predict(X_test)"
      ],
      "metadata": {
        "id": "4aK8GmKQxzml"
      },
      "execution_count": null,
      "outputs": []
    },
    {
      "cell_type": "code",
      "source": [
        "#Naive Bayes model evaluation\n",
        "model_evaluation(y_test,nb_predictions,labels)"
      ],
      "metadata": {
        "colab": {
          "base_uri": "https://localhost:8080/"
        },
        "outputId": "dd00554e-acab-4978-9a70-282af043584f",
        "id": "CVaYmIIkxzml"
      },
      "execution_count": null,
      "outputs": [
        {
          "output_type": "stream",
          "name": "stdout",
          "text": [
            "Accuracy: 72.5\n",
            "[[137  48]\n",
            " [ 62 153]]\n"
          ]
        }
      ]
    },
    {
      "cell_type": "markdown",
      "source": [
        "## BAYESIAN METHODS\n",
        "### RVM"
      ],
      "metadata": {
        "id": "fAyf7mVBxzml"
      }
    },
    {
      "cell_type": "code",
      "source": [
        "#RVM model training\n",
        "start_time = time.time()\n",
        "rvm = RVC(kernel='linear')\n",
        "rvm.fit(X_train, y_train)\n",
        "rvm_predictions = rvm.predict(X_test)\n",
        "end_time = time.time()\n",
        "runtime = end_time - start_time\n",
        "print(\"Runtime:\", runtime, \"seconds\")"
      ],
      "metadata": {
        "id": "XnkBINIp1IZx",
        "colab": {
          "base_uri": "https://localhost:8080/"
        },
        "outputId": "b8421087-2eaa-4402-edba-ea7dea7a920f"
      },
      "execution_count": null,
      "outputs": [
        {
          "output_type": "stream",
          "name": "stdout",
          "text": [
            "Runtime: 47.14715075492859 seconds\n"
          ]
        }
      ]
    },
    {
      "cell_type": "code",
      "source": [
        "#RVM model evaluation\n",
        "model_evaluation(y_test,rvm_predictions,labels)"
      ],
      "metadata": {
        "id": "1XhnMXZFo1DU",
        "colab": {
          "base_uri": "https://localhost:8080/"
        },
        "outputId": "5df73f3b-ee4d-4c80-9454-a4995bc89676"
      },
      "execution_count": null,
      "outputs": [
        {
          "output_type": "stream",
          "name": "stdout",
          "text": [
            "Accuracy: 72.75\n",
            "[[136  49]\n",
            " [ 60 155]]\n"
          ]
        }
      ]
    },
    {
      "cell_type": "markdown",
      "source": [
        "#  Original Category"
      ],
      "metadata": {
        "id": "Y3-4x1Iv1I5r"
      }
    },
    {
      "cell_type": "code",
      "source": [
        "#extract features and class\n",
        "X_1 = df[['fixed acidity','volatile acidity','citric acid','residual sugar','chlorides','free sulfur dioxide','total sulfur dioxide','density','pH','sulphates','alcohol']]\n",
        "y = df['quality']"
      ],
      "metadata": {
        "id": "ecD8XkYH1I5s"
      },
      "execution_count": null,
      "outputs": []
    },
    {
      "cell_type": "code",
      "source": [
        "#count values in quality column\n",
        "column_name = 'quality'\n",
        "\n",
        "# Calculate the value counts for the column\n",
        "value_counts = df[column_name].value_counts()\n",
        "\n",
        "print(\"Unique values and their counts in column '{}':\".format(column_name))\n",
        "print(value_counts)"
      ],
      "metadata": {
        "colab": {
          "base_uri": "https://localhost:8080/"
        },
        "id": "M_-azCCBr3pg",
        "outputId": "741ecc8b-0cbc-41db-f50a-1315de38f302"
      },
      "execution_count": null,
      "outputs": [
        {
          "output_type": "stream",
          "name": "stdout",
          "text": [
            "Unique values and their counts in column 'quality':\n",
            "5    681\n",
            "6    638\n",
            "7    199\n",
            "4     53\n",
            "8     18\n",
            "3     10\n",
            "Name: quality, dtype: int64\n"
          ]
        }
      ]
    },
    {
      "cell_type": "code",
      "source": [
        "#plot frequency of classes\n",
        "value_counts = value_counts.sort_index()\n",
        "normalized_counts = (value_counts - value_counts.min()) / (value_counts.max() - value_counts.min())* 0.8 + 0.2\n",
        "\n",
        "# Define colors based on normalized counts\n",
        "colors = plt.cm.Blues(normalized_counts)\n",
        "\n",
        "# Plotting\n",
        "plt.figure(figsize=(5, 4))\n",
        "value_counts.plot(kind='bar', color=colors)\n",
        "plt.xlabel('Quality score')\n",
        "plt.ylabel('Counts')\n",
        "plt.title('Class Distribution of original classes')\n",
        "plt.xticks(rotation=45)  # Rotate x-labels for better visibility if needed\n",
        "plt.tight_layout()  # Adjust layout to prevent clipping of labels\n",
        "plt.show()"
      ],
      "metadata": {
        "colab": {
          "base_uri": "https://localhost:8080/",
          "height": 407
        },
        "id": "Af44CQ7Hr3E_",
        "outputId": "8fcde18d-761b-4ce3-9b45-ee29e9d3aaa3"
      },
      "execution_count": null,
      "outputs": [
        {
          "output_type": "display_data",
          "data": {
            "text/plain": [
              "<Figure size 500x400 with 1 Axes>"
            ],
            "image/png": "[encoded data removed]"
          },
          "metadata": {}
        }
      ]
    },
    {
      "cell_type": "code",
      "source": [
        "#train-test split keeping ratio of each training class equal using stratify\n",
        "Shuffle_state = 4720\n",
        "X_trainunscaled, X_testunscaled, y_train, y_test = train_test_split(X_1,y, test_size=0.25,random_state=4720,stratify = y)"
      ],
      "metadata": {
        "id": "pSRjPr9h1I5s"
      },
      "execution_count": null,
      "outputs": []
    },
    {
      "cell_type": "code",
      "source": [
        "#Scaling of train set\n",
        "scaler = StandardScaler()\n",
        "X_train = scaler.fit_transform(X_trainunscaled)"
      ],
      "metadata": {
        "id": "m3D-mUfu1I5s"
      },
      "execution_count": null,
      "outputs": []
    },
    {
      "cell_type": "code",
      "source": [
        "#Scaling of test set\n",
        "scaler = StandardScaler()\n",
        "X_test = scaler.fit_transform(X_testunscaled)"
      ],
      "metadata": {
        "id": "7QxwaJGi1I5s"
      },
      "execution_count": null,
      "outputs": []
    },
    {
      "cell_type": "code",
      "source": [
        "#ratio of total data\n",
        "ratio = (df['quality'].value_counts()/ len(df))*100\n",
        "ratio"
      ],
      "metadata": {
        "colab": {
          "base_uri": "https://localhost:8080/"
        },
        "outputId": "dce74572-1005-4a61-aebe-330ae6588880",
        "id": "l1rKhlE_1I5s"
      },
      "execution_count": null,
      "outputs": [
        {
          "output_type": "execute_result",
          "data": {
            "text/plain": [
              "5    42.589118\n",
              "6    39.899937\n",
              "7    12.445278\n",
              "4     3.314572\n",
              "8     1.125704\n",
              "3     0.625391\n",
              "Name: quality, dtype: float64"
            ]
          },
          "metadata": {},
          "execution_count": 158
        }
      ]
    },
    {
      "cell_type": "code",
      "source": [
        "#ratio of test data\n",
        "ratio = (y_test.value_counts())\n",
        "ratio"
      ],
      "metadata": {
        "colab": {
          "base_uri": "https://localhost:8080/"
        },
        "outputId": "cf11f0de-bf29-44c4-e4a4-fddb01b54b57",
        "id": "-x6IFYH71I5s"
      },
      "execution_count": null,
      "outputs": [
        {
          "output_type": "execute_result",
          "data": {
            "text/plain": [
              "5    170\n",
              "6    160\n",
              "7     50\n",
              "4     13\n",
              "8      5\n",
              "3      2\n",
              "Name: quality, dtype: int64"
            ]
          },
          "metadata": {},
          "execution_count": 17
        }
      ]
    },
    {
      "cell_type": "code",
      "source": [
        "#ratio of test data\n",
        "ratio = (y_test.value_counts()/ df['quality'].value_counts())*100\n",
        "ratio"
      ],
      "metadata": {
        "colab": {
          "base_uri": "https://localhost:8080/"
        },
        "outputId": "289e1ce6-01c7-4d84-8680-deb890d32622",
        "id": "Euk0RxR81I5t"
      },
      "execution_count": null,
      "outputs": [
        {
          "output_type": "execute_result",
          "data": {
            "text/plain": [
              "5    24.963289\n",
              "6    25.078370\n",
              "7    25.125628\n",
              "4    24.528302\n",
              "8    27.777778\n",
              "3    20.000000\n",
              "Name: quality, dtype: float64"
            ]
          },
          "metadata": {},
          "execution_count": 18
        }
      ]
    },
    {
      "cell_type": "code",
      "source": [
        "#ratio of test data\n",
        "ratio = (y_train.value_counts()/ df['quality'].value_counts())*100\n",
        "ratio"
      ],
      "metadata": {
        "colab": {
          "base_uri": "https://localhost:8080/"
        },
        "outputId": "b8012397-2f67-4c3a-b8db-70921ec4158e",
        "id": "K6f_Uw4K1I5t"
      },
      "execution_count": null,
      "outputs": [
        {
          "output_type": "execute_result",
          "data": {
            "text/plain": [
              "5    75.036711\n",
              "6    74.921630\n",
              "7    74.874372\n",
              "4    75.471698\n",
              "8    72.222222\n",
              "3    80.000000\n",
              "Name: quality, dtype: float64"
            ]
          },
          "metadata": {},
          "execution_count": 19
        }
      ]
    },
    {
      "cell_type": "code",
      "source": [
        "#model evaluation function\n",
        "labels = ['Bad', 'Good']\n",
        "def model_evaluation(y_test,y_prediction,labels):\n",
        "    Accuracy = accuracy_score(y_test, y_prediction)\n",
        "    print(\"Accuracy: \" + str(Accuracy*100))\n",
        "    cm = confusion_matrix(y_test, y_prediction)\n",
        "    print(cm)"
      ],
      "metadata": {
        "id": "pRIMYrvu1I5t"
      },
      "execution_count": null,
      "outputs": []
    },
    {
      "cell_type": "markdown",
      "source": [
        "## NON BAYESIAN METHODS"
      ],
      "metadata": {
        "id": "3b7vLgUK1I5t"
      }
    },
    {
      "cell_type": "markdown",
      "source": [
        "### SVM"
      ],
      "metadata": {
        "id": "h4DutseW1I5t"
      }
    },
    {
      "cell_type": "code",
      "source": [
        "#parameters for cross validation for SVM\n",
        "svm_param_grid = {'C': [0.01, 0.1, 1,10,100],'gamma': [0.001, 0.01, 0.1, 1, 10, 100]}"
      ],
      "metadata": {
        "id": "l10sM92H1I5t"
      },
      "execution_count": null,
      "outputs": []
    },
    {
      "cell_type": "code",
      "source": [
        "#Hyperparameter tuning for SVM using random search\n",
        "start_time = time.time()\n",
        "svc = SVC()\n",
        "#svc_grid = GridSearchCV(svc, svm_param_grid,cv=5)\n",
        "svc_grid = RandomizedSearchCV(estimator = svc, param_distributions = svm_param_grid, cv=5, random_state = 42)\n",
        "svc_grid.fit(X_train, y_train)\n",
        "best_svc_params = svc_grid.best_params_\n",
        "best_svc = svc_grid.best_estimator_\n",
        "end_time = time.time()\n",
        "runtime = end_time - start_time\n",
        "print(\"Runtime:\", runtime, \"seconds\")"
      ],
      "metadata": {
        "colab": {
          "base_uri": "https://localhost:8080/"
        },
        "outputId": "e494066c-32e8-4de5-d033-237ab5afc2c0",
        "id": "reXsuc6u1I5t"
      },
      "execution_count": null,
      "outputs": [
        {
          "output_type": "stream",
          "name": "stdout",
          "text": [
            "Runtime: 4.015805959701538 seconds\n"
          ]
        }
      ]
    },
    {
      "cell_type": "code",
      "source": [
        "#Best SVC parameter from the random search\n",
        "print('{}:{}'.format(best_svc_params,best_svc))"
      ],
      "metadata": {
        "colab": {
          "base_uri": "https://localhost:8080/"
        },
        "outputId": "75419159-a7a4-4258-bfa6-fd7d70a772af",
        "id": "bVIKMQOI1I5t"
      },
      "execution_count": null,
      "outputs": [
        {
          "output_type": "stream",
          "name": "stdout",
          "text": [
            "{'gamma': 1, 'C': 1}:SVC(C=1, gamma=1)\n"
          ]
        }
      ]
    },
    {
      "cell_type": "code",
      "source": [
        "#SVM model training using best random search parameters\n",
        "\n",
        "clf_svm = SVC(C=1,gamma=1, kernel='rbf')\n",
        "clf_svm.fit(X_train, y_train)\n",
        "y_prediction_svm = clf_svm.predict(X_test)"
      ],
      "metadata": {
        "id": "f5Xtp5nL1I5t"
      },
      "execution_count": null,
      "outputs": []
    },
    {
      "cell_type": "code",
      "source": [
        "#SVM model evaluation for random search\n",
        "model_evaluation(y_test,y_prediction_svm,labels)"
      ],
      "metadata": {
        "colab": {
          "base_uri": "https://localhost:8080/"
        },
        "outputId": "cf4ddcb9-c227-4cb9-a42c-878aee1836b3",
        "id": "zQSCqk5Y1I5t"
      },
      "execution_count": null,
      "outputs": [
        {
          "output_type": "stream",
          "name": "stdout",
          "text": [
            "Accuracy: 64.25\n",
            "[[  0   0   1   1   0   0]\n",
            " [  0   0   9   4   0   0]\n",
            " [  0   0 132  37   1   0]\n",
            " [  0   0  47 106   7   0]\n",
            " [  0   0   6  25  19   0]\n",
            " [  0   0   0   4   1   0]]\n"
          ]
        }
      ]
    },
    {
      "cell_type": "code",
      "source": [
        "#parameters for cross validation for SVM\n",
        "svm_param_grid = {'C': [0.01, 0.1, 1],'gamma': [0.001, 0.01, 0.1, 1],'kernel': ['linear', 'rbf', 'poly']}"
      ],
      "metadata": {
        "id": "H5iKNRbNcsIC"
      },
      "execution_count": null,
      "outputs": []
    },
    {
      "cell_type": "code",
      "source": [
        "#Hyperparameter tuning for SVM using gridsearch\n",
        "start_time = time.time()\n",
        "svc2 = SVC()\n",
        "svc_grid2 = GridSearchCV(svc2, svm_param_grid,cv=5)\n",
        "#svc_grid = RandomizedSearchCV(estimator = svc, param_distributions = svm_param_grid, cv=5, random_state = 42)\n",
        "svc_grid2.fit(X_train, y_train)\n",
        "best_svc_params2 = svc_grid2.best_params_\n",
        "best_svc2 = svc_grid2.best_estimator_\n",
        "end_time = time.time()\n",
        "runtime = end_time - start_time\n",
        "print(\"Runtime:\", runtime, \"seconds\")"
      ],
      "metadata": {
        "id": "7H_BYxAP1I5u",
        "colab": {
          "base_uri": "https://localhost:8080/"
        },
        "outputId": "5693e668-64e9-4706-e344-44c4af780caa"
      },
      "execution_count": null,
      "outputs": [
        {
          "output_type": "stream",
          "name": "stdout",
          "text": [
            "Runtime: 16.483370542526245 seconds\n"
          ]
        }
      ]
    },
    {
      "cell_type": "code",
      "source": [
        "#Best SVC parameter from the grid search\n",
        "print('{}:{}'.format(best_svc_params2,best_svc2))"
      ],
      "metadata": {
        "id": "2ugMMxcZ1I5u",
        "colab": {
          "base_uri": "https://localhost:8080/"
        },
        "outputId": "be7421b2-6c82-44cc-81cb-1deddd42eab7"
      },
      "execution_count": null,
      "outputs": [
        {
          "output_type": "stream",
          "name": "stdout",
          "text": [
            "{'C': 1, 'gamma': 1, 'kernel': 'rbf'}:SVC(C=1, gamma=1)\n"
          ]
        }
      ]
    },
    {
      "cell_type": "code",
      "source": [
        "#SVM model training using grid search parameters\n",
        "clf_svm2 = SVC(C=1,gamma=1, kernel='rbf')\n",
        "clf_svm2.fit(X_train, y_train)\n",
        "y_prediction_svm2 = clf_svm2.predict(X_test)"
      ],
      "metadata": {
        "id": "j15B-wBe1I5u"
      },
      "execution_count": null,
      "outputs": []
    },
    {
      "cell_type": "code",
      "source": [
        "#SVM model evaluation\n",
        "model_evaluation(y_test,y_prediction_svm2,labels)"
      ],
      "metadata": {
        "colab": {
          "base_uri": "https://localhost:8080/"
        },
        "outputId": "5cb8e458-85a7-4bf6-8512-08d4f4ecb3eb",
        "id": "yuVGnmkC1I5u"
      },
      "execution_count": null,
      "outputs": [
        {
          "output_type": "stream",
          "name": "stdout",
          "text": [
            "Accuracy: 64.25\n",
            "[[  0   0   1   1   0   0]\n",
            " [  0   0   9   4   0   0]\n",
            " [  0   0 132  37   1   0]\n",
            " [  0   0  47 106   7   0]\n",
            " [  0   0   6  25  19   0]\n",
            " [  0   0   0   4   1   0]]\n"
          ]
        }
      ]
    },
    {
      "cell_type": "markdown",
      "source": [
        "### Logistic Regression"
      ],
      "metadata": {
        "id": "CZE_0bJE1I5u"
      }
    },
    {
      "cell_type": "code",
      "source": [
        "#parameters for grid search for Logistic Regression\n",
        "LR_param_grid = {'C': [0.001, 0.01, 0.1, 1, 10, 100],'multi_class' : ['ovr', 'multinomial']}"
      ],
      "metadata": {
        "id": "peVns4ze1I5u"
      },
      "execution_count": null,
      "outputs": []
    },
    {
      "cell_type": "code",
      "source": [
        "#Hyperparameter tuning for LR using gridsearch\n",
        "start_time = time.time()\n",
        "LR = LogisticRegression(max_iter = 2000)\n",
        "LR_grid = GridSearchCV(LR, LR_param_grid,cv=5)\n",
        "#LR_grid = RandomizedSearchCV(estimator = LR, param_distributions = LR_param_grid, cv=5, random_state=42)\n",
        "LR_grid.fit(X_train, y_train)\n",
        "best_LR_params = LR_grid.best_params_\n",
        "best_LR = LR_grid.best_estimator_\n",
        "end_time = time.time()\n",
        "runtime = end_time - start_time\n",
        "print(\"Runtime:\", runtime, \"seconds\")"
      ],
      "metadata": {
        "colab": {
          "base_uri": "https://localhost:8080/"
        },
        "outputId": "d94ca7c0-8f77-4b60-8d0c-b973ad0fcc7b",
        "id": "WO0VK7Bu1I5u"
      },
      "execution_count": null,
      "outputs": [
        {
          "output_type": "stream",
          "name": "stdout",
          "text": [
            "Runtime: 1.7108848094940186 seconds\n"
          ]
        }
      ]
    },
    {
      "cell_type": "code",
      "source": [
        "#Best LR parameter from the grid search\n",
        "print('{}'.format(best_LR_params))"
      ],
      "metadata": {
        "colab": {
          "base_uri": "https://localhost:8080/"
        },
        "outputId": "cb304ce6-c040-44ba-a581-7751e47196a2",
        "id": "nQnjBKwO1I5u"
      },
      "execution_count": null,
      "outputs": [
        {
          "output_type": "stream",
          "name": "stdout",
          "text": [
            "{'C': 0.1, 'multi_class': 'multinomial'}\n"
          ]
        }
      ]
    },
    {
      "cell_type": "code",
      "source": [
        "#LR model training\n",
        "\n",
        "clf_lr = LogisticRegression(C = 0.1,multi_class= 'multinomial' )\n",
        "clf_lr.fit(X_train, y_train)\n",
        "y_prediction_lr = clf_lr.predict(X_test)"
      ],
      "metadata": {
        "id": "mfOHZeQh1I5u"
      },
      "execution_count": null,
      "outputs": []
    },
    {
      "cell_type": "code",
      "source": [
        "#LR model evaluation\n",
        "model_evaluation(y_test,y_prediction_lr,labels)"
      ],
      "metadata": {
        "colab": {
          "base_uri": "https://localhost:8080/"
        },
        "outputId": "87fa0bf1-e8a5-4362-81d1-f4c03e0cb8d4",
        "id": "J2zVaJNS1I5u"
      },
      "execution_count": null,
      "outputs": [
        {
          "output_type": "stream",
          "name": "stdout",
          "text": [
            "Accuracy: 59.0\n",
            "[[  0   0   2   0   0   0]\n",
            " [  0   0   6   7   0   0]\n",
            " [  0   1 129  40   0   0]\n",
            " [  0   0  57  94   9   0]\n",
            " [  0   0   4  33  13   0]\n",
            " [  0   0   0   1   4   0]]\n"
          ]
        }
      ]
    },
    {
      "cell_type": "markdown",
      "source": [
        "### Random Forest"
      ],
      "metadata": {
        "id": "jr6rsNa-1I5v"
      }
    },
    {
      "cell_type": "code",
      "source": [
        "from scipy import stats"
      ],
      "metadata": {
        "id": "MlB7XgCY1I5v"
      },
      "execution_count": null,
      "outputs": []
    },
    {
      "cell_type": "code",
      "source": [
        "#parameters for hyperparameter tuning for Random Forest\n",
        "RF_param_grid = {'n_estimators': [100, 200, 300, 400, 500], 'max_depth': [10, 20, 30, 40, 50],'min_samples_split': list(stats.randint(1, 30 + 1).rvs(size=29)), 'min_samples_leaf': list(stats.randint(1, 30 + 1).rvs(size=29))}"
      ],
      "metadata": {
        "id": "qwD6jT0C1I5v"
      },
      "execution_count": null,
      "outputs": []
    },
    {
      "cell_type": "code",
      "source": [
        "#parameters for hyperparameter tuning for Random Forest\n",
        "RF_param_grid = {'n_estimators': [100, 200, 300], 'max_depth': [10, 20, 30],'min_samples_split': list(range(2,5)), 'min_samples_leaf': list(range(2,5))}"
      ],
      "metadata": {
        "id": "7xKxEpvc1I5v"
      },
      "execution_count": null,
      "outputs": []
    },
    {
      "cell_type": "code",
      "source": [
        "#Random search for hyperparameter tuning for random forest\n",
        "start_time = time.time()\n",
        "RF = RandomForestClassifier(random_state=42)\n",
        "RF_grid = RandomizedSearchCV(estimator = RF, param_distributions = RF_param_grid, cv=5, random_state=42)\n",
        "#RF_grid = GridSearchCV(RF, RF_param_grid,cv=5)\n",
        "RF_grid.fit(X_train, y_train)\n",
        "best_RF_params = RF_grid.best_params_\n",
        "best_RF = RF_grid.best_estimator_\n",
        "end_time = time.time()\n",
        "runtime = end_time - start_time\n",
        "print(\"Runtime:\", runtime, \"seconds\")"
      ],
      "metadata": {
        "colab": {
          "base_uri": "https://localhost:8080/"
        },
        "outputId": "8e99eaee-fc3a-47f9-92a8-ccb8d47c07c0",
        "id": "HyBfEwFN1I5v"
      },
      "execution_count": null,
      "outputs": [
        {
          "output_type": "stream",
          "name": "stdout",
          "text": [
            "Runtime: 18.26458215713501 seconds\n"
          ]
        }
      ]
    },
    {
      "cell_type": "code",
      "source": [
        "#Best hyperparameter from the random forest\n",
        "print('{}'.format(best_RF_params))"
      ],
      "metadata": {
        "colab": {
          "base_uri": "https://localhost:8080/"
        },
        "outputId": "a112e165-078f-40c3-9c7b-d5b28b507852",
        "id": "Osu5b9-d1I5v"
      },
      "execution_count": null,
      "outputs": [
        {
          "output_type": "stream",
          "name": "stdout",
          "text": [
            "{'n_estimators': 200, 'min_samples_split': 3, 'min_samples_leaf': 2, 'max_depth': 20}\n"
          ]
        }
      ]
    },
    {
      "cell_type": "code",
      "source": [
        "#RF model training\n",
        "clf_RF = RandomForestClassifier(n_estimators = 200, random_state=42, max_depth = 20,min_samples_leaf = 2,min_samples_split= 3)\n",
        "clf_RF.fit(X_train, y_train)\n",
        "y_prediction_RF = clf_RF.predict(X_test)"
      ],
      "metadata": {
        "id": "CHFfFdxH1I5v"
      },
      "execution_count": null,
      "outputs": []
    },
    {
      "cell_type": "code",
      "source": [
        "#RF model evaluation\n",
        "model_evaluation(y_test,y_prediction_RF,labels)"
      ],
      "metadata": {
        "colab": {
          "base_uri": "https://localhost:8080/"
        },
        "outputId": "5b03808f-6b8c-4f33-8559-d7cea540e282",
        "id": "_CB5Xqmi1I5v"
      },
      "execution_count": null,
      "outputs": [
        {
          "output_type": "stream",
          "name": "stdout",
          "text": [
            "Accuracy: 65.0\n",
            "[[  0   0   1   1   0   0]\n",
            " [  0   0   8   5   0   0]\n",
            " [  0   0 134  34   2   0]\n",
            " [  0   0  47 103  10   0]\n",
            " [  0   0   2  25  23   0]\n",
            " [  0   0   0   3   2   0]]\n"
          ]
        }
      ]
    },
    {
      "cell_type": "markdown",
      "source": [
        "### KNN"
      ],
      "metadata": {
        "id": "worIXKdO1I5v"
      }
    },
    {
      "cell_type": "code",
      "source": [
        "knn_param_grid = {\n",
        "    'n_neighbors': list(range(1, 10))\n",
        "}"
      ],
      "metadata": {
        "id": "p8oqVX9z1I5v"
      },
      "execution_count": null,
      "outputs": []
    },
    {
      "cell_type": "code",
      "source": [
        "#Grid search for hyperparameter tuning for knn\n",
        "start_time = time.time()\n",
        "knn_model = KNeighborsClassifier()\n",
        "knn_grid = GridSearchCV(knn_model, knn_param_grid, cv=5)\n",
        "#knn_grid = RandomizedSearchCV(estimator = knn_model, param_distributions = knn_param_grid, cv=10, random_state=42)\n",
        "knn_grid.fit(X_train, y_train)\n",
        "best_knn_params = knn_grid.best_params_\n",
        "best_knn = knn_grid.best_estimator_\n",
        "end_time = time.time()\n",
        "runtime = end_time - start_time\n",
        "print(\"Runtime:\", runtime, \"seconds\")"
      ],
      "metadata": {
        "colab": {
          "base_uri": "https://localhost:8080/"
        },
        "outputId": "62fa99d6-e2a6-4846-8113-a7d2b79f0840",
        "id": "el-xKp9a1I5w"
      },
      "execution_count": null,
      "outputs": [
        {
          "output_type": "stream",
          "name": "stdout",
          "text": [
            "Runtime: 0.6631667613983154 seconds\n"
          ]
        }
      ]
    },
    {
      "cell_type": "code",
      "source": [
        "#Best hyperparameter from the knn\n",
        "print('{}'.format(best_knn_params))"
      ],
      "metadata": {
        "colab": {
          "base_uri": "https://localhost:8080/"
        },
        "outputId": "e4d0aeff-9488-4f64-f34f-54969f1580d7",
        "id": "mCjWfK7I1I5w"
      },
      "execution_count": null,
      "outputs": [
        {
          "output_type": "stream",
          "name": "stdout",
          "text": [
            "{'n_neighbors': 1}\n"
          ]
        }
      ]
    },
    {
      "cell_type": "code",
      "source": [
        "#knn model training\n",
        "clf_knn = KNeighborsClassifier(n_neighbors = 1)\n",
        "clf_knn.fit(X_train, y_train)\n",
        "knn_predictions = clf_knn.predict(X_test)"
      ],
      "metadata": {
        "id": "8EVkqVkM1I5w"
      },
      "execution_count": null,
      "outputs": []
    },
    {
      "cell_type": "code",
      "source": [
        "#KNN model evaluation\n",
        "model_evaluation(y_test,knn_predictions,labels)"
      ],
      "metadata": {
        "colab": {
          "base_uri": "https://localhost:8080/"
        },
        "outputId": "48ae3174-c015-4f1d-f4e9-bb1fb2f720f2",
        "id": "pfHm82US1I5w"
      },
      "execution_count": null,
      "outputs": [
        {
          "output_type": "stream",
          "name": "stdout",
          "text": [
            "Accuracy: 63.0\n",
            "[[  0   0   1   1   0   0]\n",
            " [  0   2   7   4   0   0]\n",
            " [  1   4 125  35   4   1]\n",
            " [  0   7  42  95  16   0]\n",
            " [  0   0   4  15  30   1]\n",
            " [  0   0   0   2   3   0]]\n"
          ]
        }
      ]
    },
    {
      "cell_type": "markdown",
      "source": [
        "### MLP"
      ],
      "metadata": {
        "id": "Ih8UpmaZ1I5w"
      }
    },
    {
      "cell_type": "code",
      "source": [
        "#hyperparameters for the mlp\n",
        "mlp_param_grid = {'hidden_layer_sizes': [(50), (50,50), (100,100,100)], 'alpha': [0.0001, 0.001, 0.01], 'activation': ['relu', 'tanh'],'solver': ['adam', 'sgd'], 'max_iter': [300, 400, 500]}"
      ],
      "metadata": {
        "id": "O2BwYyr41I5x"
      },
      "execution_count": null,
      "outputs": []
    },
    {
      "cell_type": "code",
      "source": [
        "#Random search for hyperparameter tuning for mlp\n",
        "start_time = time.time()\n",
        "mlp_classifier = MLPClassifier(random_state=42)\n",
        "mlp_grid = RandomizedSearchCV(estimator = mlp_classifier, param_distributions = mlp_param_grid, cv=5, random_state=42)\n",
        "mlp_grid.fit(X_train, y_train)\n",
        "best_mlp_params = mlp_grid.best_params_\n",
        "best_mlp = mlp_grid.best_estimator_\n",
        "end_time = time.time()\n",
        "runtime = end_time - start_time\n",
        "print(\"Runtime:\", runtime, \"seconds\")"
      ],
      "metadata": {
        "colab": {
          "base_uri": "https://localhost:8080/"
        },
        "outputId": "a6e4f20c-02d9-4cd4-a1ed-e93173880fb5",
        "id": "DTH-JGLo1I5x"
      },
      "execution_count": null,
      "outputs": [
        {
          "output_type": "stream",
          "name": "stderr",
          "text": [
            "/usr/local/lib/python3.10/dist-packages/sklearn/neural_network/_multilayer_perceptron.py:686: ConvergenceWarning: Stochastic Optimizer: Maximum iterations (500) reached and the optimization hasn't converged yet.\n",
            "  warnings.warn(\n",
            "/usr/local/lib/python3.10/dist-packages/sklearn/neural_network/_multilayer_perceptron.py:686: ConvergenceWarning: Stochastic Optimizer: Maximum iterations (500) reached and the optimization hasn't converged yet.\n",
            "  warnings.warn(\n",
            "/usr/local/lib/python3.10/dist-packages/sklearn/neural_network/_multilayer_perceptron.py:686: ConvergenceWarning: Stochastic Optimizer: Maximum iterations (500) reached and the optimization hasn't converged yet.\n",
            "  warnings.warn(\n",
            "/usr/local/lib/python3.10/dist-packages/sklearn/neural_network/_multilayer_perceptron.py:686: ConvergenceWarning: Stochastic Optimizer: Maximum iterations (500) reached and the optimization hasn't converged yet.\n",
            "  warnings.warn(\n",
            "/usr/local/lib/python3.10/dist-packages/sklearn/neural_network/_multilayer_perceptron.py:686: ConvergenceWarning: Stochastic Optimizer: Maximum iterations (500) reached and the optimization hasn't converged yet.\n",
            "  warnings.warn(\n",
            "/usr/local/lib/python3.10/dist-packages/sklearn/neural_network/_multilayer_perceptron.py:686: ConvergenceWarning: Stochastic Optimizer: Maximum iterations (500) reached and the optimization hasn't converged yet.\n",
            "  warnings.warn(\n",
            "/usr/local/lib/python3.10/dist-packages/sklearn/neural_network/_multilayer_perceptron.py:686: ConvergenceWarning: Stochastic Optimizer: Maximum iterations (500) reached and the optimization hasn't converged yet.\n",
            "  warnings.warn(\n",
            "/usr/local/lib/python3.10/dist-packages/sklearn/neural_network/_multilayer_perceptron.py:686: ConvergenceWarning: Stochastic Optimizer: Maximum iterations (500) reached and the optimization hasn't converged yet.\n",
            "  warnings.warn(\n",
            "/usr/local/lib/python3.10/dist-packages/sklearn/neural_network/_multilayer_perceptron.py:686: ConvergenceWarning: Stochastic Optimizer: Maximum iterations (500) reached and the optimization hasn't converged yet.\n",
            "  warnings.warn(\n",
            "/usr/local/lib/python3.10/dist-packages/sklearn/neural_network/_multilayer_perceptron.py:686: ConvergenceWarning: Stochastic Optimizer: Maximum iterations (500) reached and the optimization hasn't converged yet.\n",
            "  warnings.warn(\n",
            "/usr/local/lib/python3.10/dist-packages/sklearn/neural_network/_multilayer_perceptron.py:686: ConvergenceWarning: Stochastic Optimizer: Maximum iterations (500) reached and the optimization hasn't converged yet.\n",
            "  warnings.warn(\n",
            "/usr/local/lib/python3.10/dist-packages/sklearn/neural_network/_multilayer_perceptron.py:686: ConvergenceWarning: Stochastic Optimizer: Maximum iterations (500) reached and the optimization hasn't converged yet.\n",
            "  warnings.warn(\n",
            "/usr/local/lib/python3.10/dist-packages/sklearn/neural_network/_multilayer_perceptron.py:686: ConvergenceWarning: Stochastic Optimizer: Maximum iterations (500) reached and the optimization hasn't converged yet.\n",
            "  warnings.warn(\n",
            "/usr/local/lib/python3.10/dist-packages/sklearn/neural_network/_multilayer_perceptron.py:686: ConvergenceWarning: Stochastic Optimizer: Maximum iterations (500) reached and the optimization hasn't converged yet.\n",
            "  warnings.warn(\n",
            "/usr/local/lib/python3.10/dist-packages/sklearn/neural_network/_multilayer_perceptron.py:686: ConvergenceWarning: Stochastic Optimizer: Maximum iterations (500) reached and the optimization hasn't converged yet.\n",
            "  warnings.warn(\n",
            "/usr/local/lib/python3.10/dist-packages/sklearn/neural_network/_multilayer_perceptron.py:686: ConvergenceWarning: Stochastic Optimizer: Maximum iterations (500) reached and the optimization hasn't converged yet.\n",
            "  warnings.warn(\n",
            "/usr/local/lib/python3.10/dist-packages/sklearn/neural_network/_multilayer_perceptron.py:686: ConvergenceWarning: Stochastic Optimizer: Maximum iterations (500) reached and the optimization hasn't converged yet.\n",
            "  warnings.warn(\n",
            "/usr/local/lib/python3.10/dist-packages/sklearn/neural_network/_multilayer_perceptron.py:686: ConvergenceWarning: Stochastic Optimizer: Maximum iterations (500) reached and the optimization hasn't converged yet.\n",
            "  warnings.warn(\n",
            "/usr/local/lib/python3.10/dist-packages/sklearn/neural_network/_multilayer_perceptron.py:686: ConvergenceWarning: Stochastic Optimizer: Maximum iterations (500) reached and the optimization hasn't converged yet.\n",
            "  warnings.warn(\n",
            "/usr/local/lib/python3.10/dist-packages/sklearn/neural_network/_multilayer_perceptron.py:686: ConvergenceWarning: Stochastic Optimizer: Maximum iterations (400) reached and the optimization hasn't converged yet.\n",
            "  warnings.warn(\n",
            "/usr/local/lib/python3.10/dist-packages/sklearn/neural_network/_multilayer_perceptron.py:686: ConvergenceWarning: Stochastic Optimizer: Maximum iterations (400) reached and the optimization hasn't converged yet.\n",
            "  warnings.warn(\n",
            "/usr/local/lib/python3.10/dist-packages/sklearn/neural_network/_multilayer_perceptron.py:686: ConvergenceWarning: Stochastic Optimizer: Maximum iterations (400) reached and the optimization hasn't converged yet.\n",
            "  warnings.warn(\n",
            "/usr/local/lib/python3.10/dist-packages/sklearn/neural_network/_multilayer_perceptron.py:686: ConvergenceWarning: Stochastic Optimizer: Maximum iterations (400) reached and the optimization hasn't converged yet.\n",
            "  warnings.warn(\n",
            "/usr/local/lib/python3.10/dist-packages/sklearn/neural_network/_multilayer_perceptron.py:686: ConvergenceWarning: Stochastic Optimizer: Maximum iterations (400) reached and the optimization hasn't converged yet.\n",
            "  warnings.warn(\n",
            "/usr/local/lib/python3.10/dist-packages/sklearn/neural_network/_multilayer_perceptron.py:686: ConvergenceWarning: Stochastic Optimizer: Maximum iterations (300) reached and the optimization hasn't converged yet.\n",
            "  warnings.warn(\n",
            "/usr/local/lib/python3.10/dist-packages/sklearn/neural_network/_multilayer_perceptron.py:686: ConvergenceWarning: Stochastic Optimizer: Maximum iterations (300) reached and the optimization hasn't converged yet.\n",
            "  warnings.warn(\n",
            "/usr/local/lib/python3.10/dist-packages/sklearn/neural_network/_multilayer_perceptron.py:686: ConvergenceWarning: Stochastic Optimizer: Maximum iterations (300) reached and the optimization hasn't converged yet.\n",
            "  warnings.warn(\n",
            "/usr/local/lib/python3.10/dist-packages/sklearn/neural_network/_multilayer_perceptron.py:686: ConvergenceWarning: Stochastic Optimizer: Maximum iterations (300) reached and the optimization hasn't converged yet.\n",
            "  warnings.warn(\n",
            "/usr/local/lib/python3.10/dist-packages/sklearn/neural_network/_multilayer_perceptron.py:686: ConvergenceWarning: Stochastic Optimizer: Maximum iterations (300) reached and the optimization hasn't converged yet.\n",
            "  warnings.warn(\n",
            "/usr/local/lib/python3.10/dist-packages/sklearn/neural_network/_multilayer_perceptron.py:686: ConvergenceWarning: Stochastic Optimizer: Maximum iterations (300) reached and the optimization hasn't converged yet.\n",
            "  warnings.warn(\n",
            "/usr/local/lib/python3.10/dist-packages/sklearn/neural_network/_multilayer_perceptron.py:686: ConvergenceWarning: Stochastic Optimizer: Maximum iterations (300) reached and the optimization hasn't converged yet.\n",
            "  warnings.warn(\n",
            "/usr/local/lib/python3.10/dist-packages/sklearn/neural_network/_multilayer_perceptron.py:686: ConvergenceWarning: Stochastic Optimizer: Maximum iterations (400) reached and the optimization hasn't converged yet.\n",
            "  warnings.warn(\n",
            "/usr/local/lib/python3.10/dist-packages/sklearn/neural_network/_multilayer_perceptron.py:686: ConvergenceWarning: Stochastic Optimizer: Maximum iterations (400) reached and the optimization hasn't converged yet.\n",
            "  warnings.warn(\n",
            "/usr/local/lib/python3.10/dist-packages/sklearn/neural_network/_multilayer_perceptron.py:686: ConvergenceWarning: Stochastic Optimizer: Maximum iterations (400) reached and the optimization hasn't converged yet.\n",
            "  warnings.warn(\n",
            "/usr/local/lib/python3.10/dist-packages/sklearn/neural_network/_multilayer_perceptron.py:686: ConvergenceWarning: Stochastic Optimizer: Maximum iterations (400) reached and the optimization hasn't converged yet.\n",
            "  warnings.warn(\n",
            "/usr/local/lib/python3.10/dist-packages/sklearn/neural_network/_multilayer_perceptron.py:686: ConvergenceWarning: Stochastic Optimizer: Maximum iterations (400) reached and the optimization hasn't converged yet.\n",
            "  warnings.warn(\n",
            "/usr/local/lib/python3.10/dist-packages/sklearn/neural_network/_multilayer_perceptron.py:686: ConvergenceWarning: Stochastic Optimizer: Maximum iterations (500) reached and the optimization hasn't converged yet.\n",
            "  warnings.warn(\n",
            "/usr/local/lib/python3.10/dist-packages/sklearn/neural_network/_multilayer_perceptron.py:686: ConvergenceWarning: Stochastic Optimizer: Maximum iterations (500) reached and the optimization hasn't converged yet.\n",
            "  warnings.warn(\n",
            "/usr/local/lib/python3.10/dist-packages/sklearn/neural_network/_multilayer_perceptron.py:686: ConvergenceWarning: Stochastic Optimizer: Maximum iterations (500) reached and the optimization hasn't converged yet.\n",
            "  warnings.warn(\n",
            "/usr/local/lib/python3.10/dist-packages/sklearn/neural_network/_multilayer_perceptron.py:686: ConvergenceWarning: Stochastic Optimizer: Maximum iterations (500) reached and the optimization hasn't converged yet.\n",
            "  warnings.warn(\n",
            "/usr/local/lib/python3.10/dist-packages/sklearn/neural_network/_multilayer_perceptron.py:686: ConvergenceWarning: Stochastic Optimizer: Maximum iterations (500) reached and the optimization hasn't converged yet.\n",
            "  warnings.warn(\n",
            "/usr/local/lib/python3.10/dist-packages/sklearn/neural_network/_multilayer_perceptron.py:686: ConvergenceWarning: Stochastic Optimizer: Maximum iterations (500) reached and the optimization hasn't converged yet.\n",
            "  warnings.warn(\n",
            "/usr/local/lib/python3.10/dist-packages/sklearn/neural_network/_multilayer_perceptron.py:686: ConvergenceWarning: Stochastic Optimizer: Maximum iterations (500) reached and the optimization hasn't converged yet.\n",
            "  warnings.warn(\n",
            "/usr/local/lib/python3.10/dist-packages/sklearn/neural_network/_multilayer_perceptron.py:686: ConvergenceWarning: Stochastic Optimizer: Maximum iterations (500) reached and the optimization hasn't converged yet.\n",
            "  warnings.warn(\n",
            "/usr/local/lib/python3.10/dist-packages/sklearn/neural_network/_multilayer_perceptron.py:686: ConvergenceWarning: Stochastic Optimizer: Maximum iterations (500) reached and the optimization hasn't converged yet.\n",
            "  warnings.warn(\n"
          ]
        },
        {
          "output_type": "stream",
          "name": "stdout",
          "text": [
            "Runtime: 119.48844575881958 seconds\n"
          ]
        },
        {
          "output_type": "stream",
          "name": "stderr",
          "text": [
            "/usr/local/lib/python3.10/dist-packages/sklearn/neural_network/_multilayer_perceptron.py:686: ConvergenceWarning: Stochastic Optimizer: Maximum iterations (400) reached and the optimization hasn't converged yet.\n",
            "  warnings.warn(\n"
          ]
        }
      ]
    },
    {
      "cell_type": "code",
      "source": [
        "print('{}:{}'.format(best_mlp_params,best_mlp))"
      ],
      "metadata": {
        "colab": {
          "base_uri": "https://localhost:8080/"
        },
        "outputId": "8e55eb60-430d-4eaa-d15f-fa733d597205",
        "id": "xLFOmmUD1I5x"
      },
      "execution_count": null,
      "outputs": [
        {
          "output_type": "stream",
          "name": "stdout",
          "text": [
            "{'solver': 'adam', 'max_iter': 400, 'hidden_layer_sizes': (50, 50), 'alpha': 0.0001, 'activation': 'tanh'}:MLPClassifier(activation='tanh', hidden_layer_sizes=(50, 50), max_iter=400,\n",
            "              random_state=42)\n"
          ]
        }
      ]
    },
    {
      "cell_type": "code",
      "source": [
        "#mlp training\n",
        "mlp = MLPClassifier(alpha=0.0001, hidden_layer_sizes=(50, 50),solver = 'adam',activation = 'tanh',max_iter= 400, random_state = 42)\n",
        "mlp.fit(X_train, y_train)\n",
        "y_prediction_mlp = mlp.predict(X_test)"
      ],
      "metadata": {
        "id": "W1kqQ_PF1I5x",
        "colab": {
          "base_uri": "https://localhost:8080/"
        },
        "outputId": "7a8ac3d2-1d49-479f-9a2c-5602adac7a38"
      },
      "execution_count": null,
      "outputs": [
        {
          "output_type": "stream",
          "name": "stderr",
          "text": [
            "/usr/local/lib/python3.10/dist-packages/sklearn/neural_network/_multilayer_perceptron.py:686: ConvergenceWarning: Stochastic Optimizer: Maximum iterations (400) reached and the optimization hasn't converged yet.\n",
            "  warnings.warn(\n"
          ]
        }
      ]
    },
    {
      "cell_type": "code",
      "source": [
        "#MLP model evaluation\n",
        "model_evaluation(y_test,y_prediction_mlp,labels)"
      ],
      "metadata": {
        "colab": {
          "base_uri": "https://localhost:8080/"
        },
        "outputId": "533a9a65-d5af-4b43-8420-79fbc4463270",
        "id": "rfmNGriX1I5x"
      },
      "execution_count": null,
      "outputs": [
        {
          "output_type": "stream",
          "name": "stdout",
          "text": [
            "Accuracy: 58.5\n",
            "[[  0   0   1   1   0   0]\n",
            " [  0   0   7   6   0   0]\n",
            " [  0   7 120  40   3   0]\n",
            " [  0   2  53  89  16   0]\n",
            " [  0   0   5  19  25   1]\n",
            " [  0   0   0   2   3   0]]\n"
          ]
        }
      ]
    },
    {
      "cell_type": "markdown",
      "source": [
        "### Naive Bayes"
      ],
      "metadata": {
        "id": "Q-h9ulZc1I5x"
      }
    },
    {
      "cell_type": "code",
      "source": [
        "param_grid = {\n",
        "    'priors': [None, [0.3, 0.7], [0.1, 0.9]],\n",
        "    'var_smoothing': [1e-9, 1e-8, 1e-7]\n",
        "}"
      ],
      "metadata": {
        "id": "QQzdHl861I5x"
      },
      "execution_count": null,
      "outputs": []
    },
    {
      "cell_type": "code",
      "source": [
        "#Grid search for hyperparameter tuning for naive bayes\n",
        "start_time = time.time()\n",
        "nb_model = GaussianNB()\n",
        "nb_grid = GridSearchCV(nb_model, param_grid, cv=5)\n",
        "nb_grid.fit(X_train, y_train)\n",
        "best_nb_params = nb_grid.best_params_\n",
        "best_nb = nb_grid.best_estimator_\n",
        "end_time = time.time()\n",
        "runtime = end_time - start_time\n",
        "print(\"Runtime:\", runtime, \"seconds\")"
      ],
      "metadata": {
        "colab": {
          "base_uri": "https://localhost:8080/"
        },
        "outputId": "426788f0-005b-40f2-9faf-9a64b952cd20",
        "id": "esKzAkF91I5x"
      },
      "execution_count": null,
      "outputs": [
        {
          "output_type": "stream",
          "name": "stdout",
          "text": [
            "Runtime: 0.06712055206298828 seconds\n"
          ]
        },
        {
          "output_type": "stream",
          "name": "stderr",
          "text": [
            "/usr/local/lib/python3.10/dist-packages/sklearn/model_selection/_validation.py:378: FitFailedWarning: \n",
            "30 fits failed out of a total of 45.\n",
            "The score on these train-test partitions for these parameters will be set to nan.\n",
            "If these failures are not expected, you can try to debug them by setting error_score='raise'.\n",
            "\n",
            "Below are more details about the failures:\n",
            "--------------------------------------------------------------------------------\n",
            "30 fits failed with the following error:\n",
            "Traceback (most recent call last):\n",
            "  File \"/usr/local/lib/python3.10/dist-packages/sklearn/model_selection/_validation.py\", line 686, in _fit_and_score\n",
            "    estimator.fit(X_train, y_train, **fit_params)\n",
            "  File \"/usr/local/lib/python3.10/dist-packages/sklearn/naive_bayes.py\", line 267, in fit\n",
            "    return self._partial_fit(\n",
            "  File \"/usr/local/lib/python3.10/dist-packages/sklearn/naive_bayes.py\", line 454, in _partial_fit\n",
            "    raise ValueError(\"Number of priors must match number of classes.\")\n",
            "ValueError: Number of priors must match number of classes.\n",
            "\n",
            "  warnings.warn(some_fits_failed_message, FitFailedWarning)\n",
            "/usr/local/lib/python3.10/dist-packages/sklearn/model_selection/_search.py:952: UserWarning: One or more of the test scores are non-finite: [0.5513145 0.5513145 0.5513145       nan       nan       nan       nan\n",
            "       nan       nan]\n",
            "  warnings.warn(\n"
          ]
        }
      ]
    },
    {
      "cell_type": "code",
      "source": [
        "#Best hyperparameter from the naive bayes\n",
        "print('{}'.format(best_nb))"
      ],
      "metadata": {
        "colab": {
          "base_uri": "https://localhost:8080/"
        },
        "outputId": "078f1537-173f-480b-c432-ad9ea9811f95",
        "id": "HVCme-u41I5x"
      },
      "execution_count": null,
      "outputs": [
        {
          "output_type": "stream",
          "name": "stdout",
          "text": [
            "GaussianNB()\n"
          ]
        }
      ]
    },
    {
      "cell_type": "code",
      "source": [
        "#RF model training\n",
        "clf_nb = GaussianNB()\n",
        "clf_nb.fit(X_train, y_train)\n",
        "nb_predictions = clf_nb.predict(X_test)"
      ],
      "metadata": {
        "id": "EJHP30XQ1I5y"
      },
      "execution_count": null,
      "outputs": []
    },
    {
      "cell_type": "code",
      "source": [
        "#Naive Bayes model evaluation\n",
        "model_evaluation(y_test,nb_predictions,labels)"
      ],
      "metadata": {
        "colab": {
          "base_uri": "https://localhost:8080/"
        },
        "outputId": "599caa73-495f-4d98-afa8-a242c0eb3b6d",
        "id": "DKcDfmjG1I5y"
      },
      "execution_count": null,
      "outputs": [
        {
          "output_type": "stream",
          "name": "stdout",
          "text": [
            "Accuracy: 53.0\n",
            "[[  0   0   2   0   0   0]\n",
            " [  0   3   5   5   0   0]\n",
            " [  2   6 114  43   5   0]\n",
            " [  0   8  53  69  29   1]\n",
            " [  0   0   2  22  25   1]\n",
            " [  0   0   0   0   4   1]]\n"
          ]
        }
      ]
    },
    {
      "cell_type": "markdown",
      "source": [
        "## BAYESIAN METHODS\n",
        "### RVM"
      ],
      "metadata": {
        "id": "1GalbO5i1I5y"
      }
    },
    {
      "cell_type": "code",
      "source": [
        "#RVM model training\n",
        "start_time = time.time()\n",
        "rvm = RVC(kernel='linear')\n",
        "rvm.fit(X_train, y_train)\n",
        "rvm_predictions = rvm.predict(X_test)\n",
        "end_time = time.time()\n",
        "runtime = end_time - start_time\n",
        "print(\"Runtime:\", runtime, \"seconds\")"
      ],
      "metadata": {
        "id": "X8BGdW5N1I5y",
        "colab": {
          "base_uri": "https://localhost:8080/"
        },
        "outputId": "e0f2225f-834f-49bf-9af8-08fddb695e85"
      },
      "execution_count": null,
      "outputs": [
        {
          "output_type": "stream",
          "name": "stderr",
          "text": [
            "/usr/local/lib/python3.10/dist-packages/skrvm/rvm.py:239: RuntimeWarning: divide by zero encountered in log\n",
            "  np.sum(np.log(1-y[t == 0]), 0))\n"
          ]
        },
        {
          "output_type": "stream",
          "name": "stdout",
          "text": [
            "Runtime: 157.9138159751892 seconds\n"
          ]
        }
      ]
    },
    {
      "cell_type": "code",
      "source": [
        "#RVM model evaluation\n",
        "model_evaluation(y_test,rvm_predictions,labels)"
      ],
      "metadata": {
        "colab": {
          "base_uri": "https://localhost:8080/"
        },
        "id": "bykHh2CPCCrO",
        "outputId": "514d89ac-eea9-4580-c31a-c280833e03b9"
      },
      "execution_count": null,
      "outputs": [
        {
          "output_type": "stream",
          "name": "stdout",
          "text": [
            "Accuracy: 57.99999999999999\n",
            "[[  0   0   2   0   0   0]\n",
            " [  0   0   6   7   0   0]\n",
            " [  0   1 129  40   0   0]\n",
            " [  0   0  59  89  12   0]\n",
            " [  0   0   4  32  14   0]\n",
            " [  0   0   0   1   4   0]]\n"
          ]
        }
      ]
    },
    {
      "cell_type": "markdown",
      "source": [
        "# SMOTE THRESHOLD >=7"
      ],
      "metadata": {
        "id": "Vp15EtD3jodG"
      }
    },
    {
      "cell_type": "code",
      "source": [
        "#extract features and class\n",
        "X_2 = df_copy[['fixed acidity','volatile acidity','citric acid','residual sugar','chlorides','free sulfur dioxide','total sulfur dioxide','density','pH','sulphates','alcohol']]\n",
        "y_2 = df_copy['quality']"
      ],
      "metadata": {
        "id": "BbkVizw-jB9i"
      },
      "execution_count": null,
      "outputs": []
    },
    {
      "cell_type": "code",
      "source": [
        "#train-test split keeping ratio of each training class equal using stratify\n",
        "Shuffle_state = 4720\n",
        "X_trainunscaled, X_testunscaled, y_train_xx, y_test = train_test_split(X_2,y_2, test_size=0.25,random_state=4720,stratify = y_2)"
      ],
      "metadata": {
        "id": "v89YTGAsjB9j"
      },
      "execution_count": null,
      "outputs": []
    },
    {
      "cell_type": "code",
      "source": [
        "sm = SMOTE(random_state=14)\n",
        "#sm = RandomUnderSampler(random_state=42)\n",
        "X_train, y_train = sm.fit_resample(X_trainunscaled, y_train_xx)\n",
        "\n",
        "#sm = RandomUnderSampler(random_state=42)"
      ],
      "metadata": {
        "id": "Mf8qdaaNeR9h"
      },
      "execution_count": null,
      "outputs": []
    },
    {
      "cell_type": "code",
      "source": [
        "print(\"Before smote --> \", collections.Counter(y_train_xx))\n",
        "print(\"After smote --> \", collections.Counter(y_train))"
      ],
      "metadata": {
        "colab": {
          "base_uri": "https://localhost:8080/"
        },
        "id": "4nnUuXepeZXq",
        "outputId": "d60aa6bb-0555-42c7-867f-cf57b0fb627d"
      },
      "execution_count": null,
      "outputs": [
        {
          "output_type": "stream",
          "name": "stdout",
          "text": [
            "Before smote -->  Counter({'Bad': 1036, 'Good': 163})\n",
            "After smote -->  Counter({'Bad': 1036, 'Good': 1036})\n"
          ]
        }
      ]
    },
    {
      "cell_type": "code",
      "source": [
        "#Scaling of train set\n",
        "scaler = StandardScaler()\n",
        "X_trainunscaled = scaler.fit_transform(X_trainunscaled)"
      ],
      "metadata": {
        "id": "f67KoRCsjB9l"
      },
      "execution_count": null,
      "outputs": []
    },
    {
      "cell_type": "code",
      "source": [
        "#Scaling of test set\n",
        "scaler = StandardScaler()\n",
        "X_test = scaler.fit_transform(X_testunscaled)"
      ],
      "metadata": {
        "id": "COjc7LJBjB9l"
      },
      "execution_count": null,
      "outputs": []
    },
    {
      "cell_type": "code",
      "source": [
        "#ratio of test data\n",
        "ratio = (y_train.value_counts())\n",
        "ratio"
      ],
      "metadata": {
        "colab": {
          "base_uri": "https://localhost:8080/"
        },
        "outputId": "2ed3d574-e7fc-4afb-86d6-bb86d400e76b",
        "id": "lDly2uMTjB9m"
      },
      "execution_count": null,
      "outputs": [
        {
          "output_type": "execute_result",
          "data": {
            "text/plain": [
              "Bad     1036\n",
              "Good    1036\n",
              "Name: quality, dtype: int64"
            ]
          },
          "metadata": {},
          "execution_count": 19
        }
      ]
    },
    {
      "cell_type": "code",
      "source": [
        "#ratio of test data\n",
        "ratio = (y_test.value_counts()/ df_copy['quality'].value_counts())*100\n",
        "ratio"
      ],
      "metadata": {
        "colab": {
          "base_uri": "https://localhost:8080/"
        },
        "outputId": "6173a1b3-df7c-4d77-807b-793dc7f21011",
        "id": "SXokBhk_jB9m"
      },
      "execution_count": null,
      "outputs": [
        {
          "output_type": "execute_result",
          "data": {
            "text/plain": [
              "Bad     25.036179\n",
              "Good    24.884793\n",
              "Name: quality, dtype: float64"
            ]
          },
          "metadata": {},
          "execution_count": 20
        }
      ]
    },
    {
      "cell_type": "code",
      "source": [
        "#model evaluation function\n",
        "labels = ['Bad', 'Good']\n",
        "def model_evaluation(y_test,y_prediction, labels):\n",
        "    Accuracy = accuracy_score(y_test, y_prediction)\n",
        "    print(\"Accuracy: \" + str(Accuracy*100))\n",
        "    F1 = f1_score(y_test, y_prediction,average = 'macro')\n",
        "    print(\"F1 score: \" + str(F1*100))\n",
        "    cm = confusion_matrix(y_test, y_prediction)\n",
        "    print(cm)"
      ],
      "metadata": {
        "id": "dLIWoV3PjB9m"
      },
      "execution_count": null,
      "outputs": []
    },
    {
      "cell_type": "markdown",
      "source": [
        "## NON BAYESIAN METHODS"
      ],
      "metadata": {
        "id": "18VBD5qTjB9m"
      }
    },
    {
      "cell_type": "markdown",
      "source": [
        "### SVM"
      ],
      "metadata": {
        "id": "FMR4eeCujB9n"
      }
    },
    {
      "cell_type": "code",
      "source": [
        "#parameters for cross validation for SVM\n",
        "svm_param_grid = {'kernel': ['linear', 'rbf'], 'C': [0.01, 0.1, 1,10,100],'gamma': [0.001, 0.01, 0.1, 1, 10, 100]}"
      ],
      "metadata": {
        "id": "s_hsRMm9jB9n"
      },
      "execution_count": null,
      "outputs": []
    },
    {
      "cell_type": "code",
      "source": [
        "#Hyperparameter tuning for SVM using random search\n",
        "start_time = time.time()\n",
        "svc = SVC()\n",
        "#svc_grid = GridSearchCV(svc, svm_param_grid,cv=5)\n",
        "svc_grid = RandomizedSearchCV(estimator = svc, param_distributions = svm_param_grid, cv=5, random_state = 42)\n",
        "svc_grid.fit(X_train, y_train)\n",
        "best_svc_params = svc_grid.best_params_\n",
        "best_svc = svc_grid.best_estimator_\n",
        "end_time = time.time()\n",
        "runtime = end_time - start_time\n",
        "print(\"Runtime:\", runtime, \"seconds\")"
      ],
      "metadata": {
        "colab": {
          "base_uri": "https://localhost:8080/"
        },
        "outputId": "acd45b06-2d7b-48cf-aa06-8d95c8716909",
        "id": "1t3tktsijB9n"
      },
      "execution_count": null,
      "outputs": [
        {
          "output_type": "stream",
          "name": "stdout",
          "text": [
            "Runtime: 42.88693690299988 seconds\n"
          ]
        }
      ]
    },
    {
      "cell_type": "code",
      "source": [
        "#Best SVC parameter from the random search\n",
        "print('{}:{}'.format(best_svc_params,best_svc))"
      ],
      "metadata": {
        "colab": {
          "base_uri": "https://localhost:8080/"
        },
        "outputId": "f9dd9579-c620-417b-b59f-523b42d9898f",
        "id": "2YC6n1_QjB9n"
      },
      "execution_count": null,
      "outputs": [
        {
          "output_type": "stream",
          "name": "stdout",
          "text": [
            "{'kernel': 'rbf', 'gamma': 10, 'C': 10}:SVC(C=10, gamma=10)\n"
          ]
        }
      ]
    },
    {
      "cell_type": "code",
      "source": [
        "#SVM model training using best random search parameters\n",
        "\n",
        "clf_svm = SVC(C=10,gamma=10, kernel='rbf')\n",
        "clf_svm.fit(X_train, y_train)\n",
        "y_prediction_svm = clf_svm.predict(X_test)"
      ],
      "metadata": {
        "id": "TKH0h8bFjB9n"
      },
      "execution_count": null,
      "outputs": []
    },
    {
      "cell_type": "code",
      "source": [
        "#SVM model evaluation for random search\n",
        "model_evaluation(y_test,y_prediction_svm, labels)"
      ],
      "metadata": {
        "colab": {
          "base_uri": "https://localhost:8080/"
        },
        "outputId": "03f14f10-adfa-429d-a5be-1de0e46e7735",
        "id": "Wwe-StRajB9n"
      },
      "execution_count": null,
      "outputs": [
        {
          "output_type": "stream",
          "name": "stdout",
          "text": [
            "Accuracy: 89.25\n",
            "F1 score: 63.99790685504971\n",
            "[[346   0]\n",
            " [ 43  11]]\n"
          ]
        }
      ]
    },
    {
      "cell_type": "code",
      "source": [
        "#Hyperparameter tuning for SVM using gridsearch\n",
        "start_time = time.time()\n",
        "svc2 = SVC()\n",
        "svc_grid2 = GridSearchCV(svc2, svm_param_grid,cv=5)\n",
        "#svc_grid = RandomizedSearchCV(estimator = svc, param_distributions = svm_param_grid, cv=5, random_state = 42)\n",
        "svc_grid2.fit(X_train, y_train)\n",
        "best_svc_params2 = svc_grid2.best_params_\n",
        "best_svc2 = svc_grid2.best_estimator_\n",
        "end_time = time.time()\n",
        "runtime = end_time - start_time\n",
        "print(\"Runtime:\", runtime, \"seconds\")"
      ],
      "metadata": {
        "colab": {
          "base_uri": "https://localhost:8080/"
        },
        "outputId": "0214c211-136f-4003-de18-fd1147150580",
        "id": "vK7LZEnkjB9o"
      },
      "execution_count": null,
      "outputs": [
        {
          "output_type": "stream",
          "name": "stdout",
          "text": [
            "Runtime: 124.83867144584656 seconds\n"
          ]
        }
      ]
    },
    {
      "cell_type": "code",
      "source": [
        "#SVM model training using grid search parameters\n",
        "clf_svm2 = SVC(C=1,gamma=1, kernel='rbf')\n",
        "clf_svm2.fit(X_train, y_train)\n",
        "y_prediction_svm2 = clf_svm2.predict(X_test)"
      ],
      "metadata": {
        "id": "of1P0BzjjB9o"
      },
      "execution_count": null,
      "outputs": []
    },
    {
      "cell_type": "code",
      "source": [
        "#SVM model evaluation\n",
        "model_evaluation(y_test,y_prediction_svm2,labels)"
      ],
      "metadata": {
        "colab": {
          "base_uri": "https://localhost:8080/"
        },
        "outputId": "0a73c15c-ee8b-4652-84e4-694afdf364ba",
        "id": "nXrWy23UjB9o"
      },
      "execution_count": null,
      "outputs": [
        {
          "output_type": "stream",
          "name": "stdout",
          "text": [
            "Accuracy: 89.0\n",
            "F1 score: 70.73689811119979\n",
            "[[336  10]\n",
            " [ 34  20]]\n"
          ]
        }
      ]
    },
    {
      "cell_type": "markdown",
      "source": [
        "### Logistic Regression"
      ],
      "metadata": {
        "id": "TTgmpDYfjB9o"
      }
    },
    {
      "cell_type": "code",
      "source": [
        "#parameters for grid search for Logistic Regression\n",
        "LR_param_grid = {'C': [0.001, 0.01, 0.1, 1, 10, 100]}"
      ],
      "metadata": {
        "id": "QaY8_NJOjB9o"
      },
      "execution_count": null,
      "outputs": []
    },
    {
      "cell_type": "code",
      "source": [
        "#Hyperparameter tuning for LR using gridsearch\n",
        "start_time = time.time()\n",
        "LR = LogisticRegression(max_iter = 2000)\n",
        "LR_grid = GridSearchCV(LR, LR_param_grid,cv=5)\n",
        "#LR_grid = RandomizedSearchCV(estimator = LR, param_distributions = LR_param_grid, cv=5, random_state=42)\n",
        "LR_grid.fit(X_train, y_train)\n",
        "best_LR_params = LR_grid.best_params_\n",
        "best_LR = LR_grid.best_estimator_\n",
        "end_time = time.time()\n",
        "runtime = end_time - start_time\n",
        "print(\"Runtime:\", runtime, \"seconds\")"
      ],
      "metadata": {
        "colab": {
          "base_uri": "https://localhost:8080/"
        },
        "outputId": "75ed8f29-1c23-41ff-a742-05b963669077",
        "id": "nDe6lf5BjB9o"
      },
      "execution_count": null,
      "outputs": [
        {
          "output_type": "stream",
          "name": "stdout",
          "text": [
            "Runtime: 0.5819718837738037 seconds\n"
          ]
        }
      ]
    },
    {
      "cell_type": "code",
      "source": [
        "#Best LR parameter from the grid search\n",
        "print('{}'.format(best_LR_params))"
      ],
      "metadata": {
        "colab": {
          "base_uri": "https://localhost:8080/"
        },
        "outputId": "bdca5444-8e03-43c0-c1db-7a59a88b468e",
        "id": "pupsyB7fjB9o"
      },
      "execution_count": null,
      "outputs": [
        {
          "output_type": "stream",
          "name": "stdout",
          "text": [
            "{'C': 1}\n"
          ]
        }
      ]
    },
    {
      "cell_type": "code",
      "source": [
        "#LR model training\n",
        "\n",
        "clf_lr = LogisticRegression(C = 1)\n",
        "clf_lr.fit(X_train, y_train)\n",
        "y_prediction_lr = clf_lr.predict(X_test)"
      ],
      "metadata": {
        "id": "v38z9g5UjB9p"
      },
      "execution_count": null,
      "outputs": []
    },
    {
      "cell_type": "code",
      "source": [
        "#LR model evaluation\n",
        "model_evaluation(y_test,y_prediction_lr,labels)"
      ],
      "metadata": {
        "colab": {
          "base_uri": "https://localhost:8080/"
        },
        "outputId": "ca990012-2152-46fd-bd7d-fd52279b7fda",
        "id": "fBAeCspojB9p"
      },
      "execution_count": null,
      "outputs": [
        {
          "output_type": "stream",
          "name": "stdout",
          "text": [
            "Accuracy: 78.25\n",
            "F1 score: 67.08005789369129\n",
            "[[273  73]\n",
            " [ 14  40]]\n"
          ]
        }
      ]
    },
    {
      "cell_type": "markdown",
      "source": [
        "### Random Forest"
      ],
      "metadata": {
        "id": "VitWNUi4jB9p"
      }
    },
    {
      "cell_type": "code",
      "source": [
        "from scipy import stats"
      ],
      "metadata": {
        "id": "xQYKaUXsjB9p"
      },
      "execution_count": null,
      "outputs": []
    },
    {
      "cell_type": "code",
      "source": [
        "#parameters for hyperparameter tuning for Random Forest\n",
        "RF_param_grid = {'n_estimators': [100, 200, 300, 400, 500], 'max_depth': [10, 20, 30, 40, 50],'min_samples_split': list(stats.randint(1, 30 + 1).rvs(size=29)), 'min_samples_leaf': list(stats.randint(1, 30 + 1).rvs(size=29))}"
      ],
      "metadata": {
        "id": "N9OAzJFmjB9p"
      },
      "execution_count": null,
      "outputs": []
    },
    {
      "cell_type": "code",
      "source": [
        "#parameters for hyperparameter tuning for Random Forest\n",
        "RF_param_grid = {'n_estimators': [100, 200, 300, 400], 'max_depth': [10, 20, 30, 40],'min_samples_split': list(range(2,10)), 'min_samples_leaf': list(range(2,10))}"
      ],
      "metadata": {
        "id": "RFRyhA7hjB9p"
      },
      "execution_count": null,
      "outputs": []
    },
    {
      "cell_type": "code",
      "source": [
        "#Random search for hyperparameter tuning for random forest\n",
        "start_time = time.time()\n",
        "RF = RandomForestClassifier(random_state=42)\n",
        "RF_grid = RandomizedSearchCV(estimator = RF, param_distributions = RF_param_grid, cv=5, random_state=42)\n",
        "#RF_grid = GridSearchCV(RF, RF_param_grid,cv=5)\n",
        "RF_grid.fit(X_train, y_train)\n",
        "best_RF_params = RF_grid.best_params_\n",
        "best_RF = RF_grid.best_estimator_\n",
        "end_time = time.time()\n",
        "runtime = end_time - start_time\n",
        "print(\"Runtime:\", runtime, \"seconds\")"
      ],
      "metadata": {
        "colab": {
          "base_uri": "https://localhost:8080/"
        },
        "outputId": "88d2ea98-aac6-4c12-a791-f4403ab47bc0",
        "id": "kLqnDfhrjB9p"
      },
      "execution_count": null,
      "outputs": [
        {
          "output_type": "stream",
          "name": "stdout",
          "text": [
            "Runtime: 46.205225229263306 seconds\n"
          ]
        }
      ]
    },
    {
      "cell_type": "code",
      "source": [
        "#RF model training\n",
        "clf_RF = RandomForestClassifier(n_estimators = 400, random_state=42, max_depth = 40,min_samples_leaf = 2,min_samples_split= 2)\n",
        "clf_RF.fit(X_train, y_train)\n",
        "y_prediction_RF = clf_RF.predict(X_test)"
      ],
      "metadata": {
        "id": "X9WoxsOSjB9p"
      },
      "execution_count": null,
      "outputs": []
    },
    {
      "cell_type": "code",
      "source": [
        "#RF model evaluation\n",
        "model_evaluation(y_test,y_prediction_RF,labels)"
      ],
      "metadata": {
        "colab": {
          "base_uri": "https://localhost:8080/"
        },
        "outputId": "fbdb44ef-d5d6-4397-cc8d-f08a43a731b0",
        "id": "q5Y_zGegjB9p"
      },
      "execution_count": null,
      "outputs": [
        {
          "output_type": "stream",
          "name": "stdout",
          "text": [
            "Accuracy: 87.0\n",
            "F1 score: 74.85371633057692\n",
            "[[313  33]\n",
            " [ 19  35]]\n"
          ]
        }
      ]
    },
    {
      "cell_type": "markdown",
      "source": [
        "### KNN"
      ],
      "metadata": {
        "id": "jKP5GwUWjB9q"
      }
    },
    {
      "cell_type": "code",
      "source": [
        "knn_param_grid = {\n",
        "    'n_neighbors': list(range(1, 10))\n",
        "}"
      ],
      "metadata": {
        "id": "x-wzm-FnjB9q"
      },
      "execution_count": null,
      "outputs": []
    },
    {
      "cell_type": "code",
      "source": [
        "#Grid search for hyperparameter tuning for knn\n",
        "start_time = time.time()\n",
        "knn_model = KNeighborsClassifier()\n",
        "knn_grid = GridSearchCV(knn_model, knn_param_grid, cv=5)\n",
        "#knn_grid = RandomizedSearchCV(estimator = knn_model, param_distributions = knn_param_grid, cv=10, random_state=42)\n",
        "knn_grid.fit(X_train, y_train)\n",
        "best_knn_params = knn_grid.best_params_\n",
        "best_knn = knn_grid.best_estimator_\n",
        "end_time = time.time()\n",
        "runtime = end_time - start_time\n",
        "print(\"Runtime:\", runtime, \"seconds\")"
      ],
      "metadata": {
        "colab": {
          "base_uri": "https://localhost:8080/"
        },
        "outputId": "98ead4d7-7631-46f5-cf44-82f24f2290de",
        "id": "N0WFw_1qjB9q"
      },
      "execution_count": null,
      "outputs": [
        {
          "output_type": "stream",
          "name": "stdout",
          "text": [
            "Runtime: 1.745279312133789 seconds\n"
          ]
        }
      ]
    },
    {
      "cell_type": "code",
      "source": [
        "#Best hyperparameter from the knn\n",
        "print('{}'.format(best_knn_params))"
      ],
      "metadata": {
        "colab": {
          "base_uri": "https://localhost:8080/"
        },
        "outputId": "5db3ddca-318b-4aeb-f5f4-869fad1845ed",
        "id": "DU1zHTz3jB9q"
      },
      "execution_count": null,
      "outputs": [
        {
          "output_type": "stream",
          "name": "stdout",
          "text": [
            "{'n_neighbors': 2}\n"
          ]
        }
      ]
    },
    {
      "cell_type": "code",
      "source": [
        "#RF model training\n",
        "clf_knn = KNeighborsClassifier(n_neighbors = 2)\n",
        "clf_knn.fit(X_train, y_train)\n",
        "knn_predictions = clf_knn.predict(X_test)"
      ],
      "metadata": {
        "id": "26JZ8dJXjB9q"
      },
      "execution_count": null,
      "outputs": []
    },
    {
      "cell_type": "code",
      "source": [
        "#KNN model evaluation\n",
        "model_evaluation(y_test,knn_predictions,labels)"
      ],
      "metadata": {
        "colab": {
          "base_uri": "https://localhost:8080/"
        },
        "outputId": "37250c9e-6d75-4f8d-8666-c8d1d8402eb2",
        "id": "TU0x4H3yjB9q"
      },
      "execution_count": null,
      "outputs": [
        {
          "output_type": "stream",
          "name": "stdout",
          "text": [
            "Accuracy: 85.0\n",
            "F1 score: 72.09821428571428\n",
            "[[306  40]\n",
            " [ 20  34]]\n"
          ]
        }
      ]
    },
    {
      "cell_type": "markdown",
      "source": [
        "### MLP"
      ],
      "metadata": {
        "id": "PZ4J6FrmjB9q"
      }
    },
    {
      "cell_type": "code",
      "source": [
        "#hyperparameters for the mlp\n",
        "mlp_param_grid = {'hidden_layer_sizes': [(50), (50,50), (100,100,100)], 'alpha': [0.0001, 0.001, 0.01], 'activation': ['relu', 'tanh'],'solver': ['adam', 'sgd'], 'max_iter': [300, 400, 500]}"
      ],
      "metadata": {
        "id": "oyOOZyGBjB9r"
      },
      "execution_count": null,
      "outputs": []
    },
    {
      "cell_type": "code",
      "source": [
        "#Random search for hyperparameter tuning for mlp\n",
        "start_time = time.time()\n",
        "mlp_classifier = MLPClassifier(random_state=42)\n",
        "mlp_grid = RandomizedSearchCV(estimator = mlp_classifier, param_distributions = mlp_param_grid, cv=5, random_state=42)\n",
        "mlp_grid.fit(X_train, y_train)\n",
        "best_mlp_params = mlp_grid.best_params_\n",
        "best_mlp = mlp_grid.best_estimator_\n",
        "end_time = time.time()\n",
        "runtime = end_time - start_time\n",
        "print(\"Runtime:\", runtime, \"seconds\")"
      ],
      "metadata": {
        "colab": {
          "base_uri": "https://localhost:8080/"
        },
        "outputId": "b4415d88-51c1-488c-fc1c-86d95bf2fba8",
        "id": "RQzMKRpPjB9r"
      },
      "execution_count": null,
      "outputs": [
        {
          "output_type": "stream",
          "name": "stderr",
          "text": [
            "/usr/local/lib/python3.10/dist-packages/sklearn/neural_network/_multilayer_perceptron.py:686: ConvergenceWarning: Stochastic Optimizer: Maximum iterations (500) reached and the optimization hasn't converged yet.\n",
            "  warnings.warn(\n",
            "/usr/local/lib/python3.10/dist-packages/sklearn/neural_network/_multilayer_perceptron.py:686: ConvergenceWarning: Stochastic Optimizer: Maximum iterations (500) reached and the optimization hasn't converged yet.\n",
            "  warnings.warn(\n",
            "/usr/local/lib/python3.10/dist-packages/sklearn/neural_network/_multilayer_perceptron.py:686: ConvergenceWarning: Stochastic Optimizer: Maximum iterations (500) reached and the optimization hasn't converged yet.\n",
            "  warnings.warn(\n",
            "/usr/local/lib/python3.10/dist-packages/sklearn/neural_network/_multilayer_perceptron.py:686: ConvergenceWarning: Stochastic Optimizer: Maximum iterations (500) reached and the optimization hasn't converged yet.\n",
            "  warnings.warn(\n",
            "/usr/local/lib/python3.10/dist-packages/sklearn/neural_network/_multilayer_perceptron.py:686: ConvergenceWarning: Stochastic Optimizer: Maximum iterations (500) reached and the optimization hasn't converged yet.\n",
            "  warnings.warn(\n",
            "/usr/local/lib/python3.10/dist-packages/sklearn/neural_network/_multilayer_perceptron.py:686: ConvergenceWarning: Stochastic Optimizer: Maximum iterations (500) reached and the optimization hasn't converged yet.\n",
            "  warnings.warn(\n",
            "/usr/local/lib/python3.10/dist-packages/sklearn/neural_network/_multilayer_perceptron.py:686: ConvergenceWarning: Stochastic Optimizer: Maximum iterations (500) reached and the optimization hasn't converged yet.\n",
            "  warnings.warn(\n",
            "/usr/local/lib/python3.10/dist-packages/sklearn/neural_network/_multilayer_perceptron.py:686: ConvergenceWarning: Stochastic Optimizer: Maximum iterations (500) reached and the optimization hasn't converged yet.\n",
            "  warnings.warn(\n",
            "/usr/local/lib/python3.10/dist-packages/sklearn/neural_network/_multilayer_perceptron.py:686: ConvergenceWarning: Stochastic Optimizer: Maximum iterations (500) reached and the optimization hasn't converged yet.\n",
            "  warnings.warn(\n",
            "/usr/local/lib/python3.10/dist-packages/sklearn/neural_network/_multilayer_perceptron.py:686: ConvergenceWarning: Stochastic Optimizer: Maximum iterations (500) reached and the optimization hasn't converged yet.\n",
            "  warnings.warn(\n",
            "/usr/local/lib/python3.10/dist-packages/sklearn/neural_network/_multilayer_perceptron.py:686: ConvergenceWarning: Stochastic Optimizer: Maximum iterations (500) reached and the optimization hasn't converged yet.\n",
            "  warnings.warn(\n",
            "/usr/local/lib/python3.10/dist-packages/sklearn/neural_network/_multilayer_perceptron.py:686: ConvergenceWarning: Stochastic Optimizer: Maximum iterations (400) reached and the optimization hasn't converged yet.\n",
            "  warnings.warn(\n",
            "/usr/local/lib/python3.10/dist-packages/sklearn/neural_network/_multilayer_perceptron.py:686: ConvergenceWarning: Stochastic Optimizer: Maximum iterations (400) reached and the optimization hasn't converged yet.\n",
            "  warnings.warn(\n",
            "/usr/local/lib/python3.10/dist-packages/sklearn/neural_network/_multilayer_perceptron.py:686: ConvergenceWarning: Stochastic Optimizer: Maximum iterations (400) reached and the optimization hasn't converged yet.\n",
            "  warnings.warn(\n",
            "/usr/local/lib/python3.10/dist-packages/sklearn/neural_network/_multilayer_perceptron.py:686: ConvergenceWarning: Stochastic Optimizer: Maximum iterations (400) reached and the optimization hasn't converged yet.\n",
            "  warnings.warn(\n",
            "/usr/local/lib/python3.10/dist-packages/sklearn/neural_network/_multilayer_perceptron.py:686: ConvergenceWarning: Stochastic Optimizer: Maximum iterations (400) reached and the optimization hasn't converged yet.\n",
            "  warnings.warn(\n",
            "/usr/local/lib/python3.10/dist-packages/sklearn/neural_network/_multilayer_perceptron.py:686: ConvergenceWarning: Stochastic Optimizer: Maximum iterations (300) reached and the optimization hasn't converged yet.\n",
            "  warnings.warn(\n",
            "/usr/local/lib/python3.10/dist-packages/sklearn/neural_network/_multilayer_perceptron.py:686: ConvergenceWarning: Stochastic Optimizer: Maximum iterations (300) reached and the optimization hasn't converged yet.\n",
            "  warnings.warn(\n",
            "/usr/local/lib/python3.10/dist-packages/sklearn/neural_network/_multilayer_perceptron.py:686: ConvergenceWarning: Stochastic Optimizer: Maximum iterations (300) reached and the optimization hasn't converged yet.\n",
            "  warnings.warn(\n",
            "/usr/local/lib/python3.10/dist-packages/sklearn/neural_network/_multilayer_perceptron.py:686: ConvergenceWarning: Stochastic Optimizer: Maximum iterations (300) reached and the optimization hasn't converged yet.\n",
            "  warnings.warn(\n",
            "/usr/local/lib/python3.10/dist-packages/sklearn/neural_network/_multilayer_perceptron.py:686: ConvergenceWarning: Stochastic Optimizer: Maximum iterations (300) reached and the optimization hasn't converged yet.\n",
            "  warnings.warn(\n",
            "/usr/local/lib/python3.10/dist-packages/sklearn/neural_network/_multilayer_perceptron.py:686: ConvergenceWarning: Stochastic Optimizer: Maximum iterations (400) reached and the optimization hasn't converged yet.\n",
            "  warnings.warn(\n",
            "/usr/local/lib/python3.10/dist-packages/sklearn/neural_network/_multilayer_perceptron.py:686: ConvergenceWarning: Stochastic Optimizer: Maximum iterations (400) reached and the optimization hasn't converged yet.\n",
            "  warnings.warn(\n",
            "/usr/local/lib/python3.10/dist-packages/sklearn/neural_network/_multilayer_perceptron.py:686: ConvergenceWarning: Stochastic Optimizer: Maximum iterations (400) reached and the optimization hasn't converged yet.\n",
            "  warnings.warn(\n",
            "/usr/local/lib/python3.10/dist-packages/sklearn/neural_network/_multilayer_perceptron.py:686: ConvergenceWarning: Stochastic Optimizer: Maximum iterations (400) reached and the optimization hasn't converged yet.\n",
            "  warnings.warn(\n",
            "/usr/local/lib/python3.10/dist-packages/sklearn/neural_network/_multilayer_perceptron.py:686: ConvergenceWarning: Stochastic Optimizer: Maximum iterations (400) reached and the optimization hasn't converged yet.\n",
            "  warnings.warn(\n",
            "/usr/local/lib/python3.10/dist-packages/sklearn/neural_network/_multilayer_perceptron.py:686: ConvergenceWarning: Stochastic Optimizer: Maximum iterations (500) reached and the optimization hasn't converged yet.\n",
            "  warnings.warn(\n",
            "/usr/local/lib/python3.10/dist-packages/sklearn/neural_network/_multilayer_perceptron.py:686: ConvergenceWarning: Stochastic Optimizer: Maximum iterations (500) reached and the optimization hasn't converged yet.\n",
            "  warnings.warn(\n",
            "/usr/local/lib/python3.10/dist-packages/sklearn/neural_network/_multilayer_perceptron.py:686: ConvergenceWarning: Stochastic Optimizer: Maximum iterations (500) reached and the optimization hasn't converged yet.\n",
            "  warnings.warn(\n",
            "/usr/local/lib/python3.10/dist-packages/sklearn/neural_network/_multilayer_perceptron.py:686: ConvergenceWarning: Stochastic Optimizer: Maximum iterations (500) reached and the optimization hasn't converged yet.\n",
            "  warnings.warn(\n",
            "/usr/local/lib/python3.10/dist-packages/sklearn/neural_network/_multilayer_perceptron.py:686: ConvergenceWarning: Stochastic Optimizer: Maximum iterations (500) reached and the optimization hasn't converged yet.\n",
            "  warnings.warn(\n"
          ]
        },
        {
          "output_type": "stream",
          "name": "stdout",
          "text": [
            "Runtime: 445.0853090286255 seconds\n"
          ]
        }
      ]
    },
    {
      "cell_type": "code",
      "source": [
        "print('{}:{}'.format(best_mlp_params,best_mlp))"
      ],
      "metadata": {
        "colab": {
          "base_uri": "https://localhost:8080/"
        },
        "outputId": "850a6715-1f40-4f89-b0b0-f1be6c73d882",
        "id": "PE0RhwPsjB9r"
      },
      "execution_count": null,
      "outputs": [
        {
          "output_type": "stream",
          "name": "stdout",
          "text": [
            "{'solver': 'adam', 'max_iter': 500, 'hidden_layer_sizes': (50, 50), 'alpha': 0.0001, 'activation': 'relu'}:MLPClassifier(hidden_layer_sizes=(50, 50), max_iter=500, random_state=42)\n"
          ]
        }
      ]
    },
    {
      "cell_type": "code",
      "source": [
        "#mlp training\n",
        "mlp = MLPClassifier(alpha=0.0001, hidden_layer_sizes=(50,50),solver = 'adam',activation = 'relu',max_iter= 500, random_state = 42)\n",
        "mlp.fit(X_train, y_train)\n",
        "y_prediction_mlp = mlp.predict(X_test)"
      ],
      "metadata": {
        "id": "rbralJswjB9r"
      },
      "execution_count": null,
      "outputs": []
    },
    {
      "cell_type": "code",
      "source": [
        "#MLP model evaluation\n",
        "model_evaluation(y_test,y_prediction_mlp,labels)"
      ],
      "metadata": {
        "colab": {
          "base_uri": "https://localhost:8080/"
        },
        "outputId": "f87ed225-0fe5-4456-dae1-c15072af0e0f",
        "id": "5SS9F-2WjB9r"
      },
      "execution_count": null,
      "outputs": [
        {
          "output_type": "stream",
          "name": "stdout",
          "text": [
            "Accuracy: 87.75\n",
            "F1 score: 72.23756710434992\n",
            "[[325  21]\n",
            " [ 28  26]]\n"
          ]
        }
      ]
    },
    {
      "cell_type": "markdown",
      "source": [
        "### Naive Bayes"
      ],
      "metadata": {
        "id": "54v31yt2jB9r"
      }
    },
    {
      "cell_type": "code",
      "source": [
        "param_grid = {\n",
        "    'priors': [None, [0.3, 0.7], [0.1, 0.9]],\n",
        "    'var_smoothing': [1e-9, 1e-8, 1e-7]\n",
        "}"
      ],
      "metadata": {
        "id": "NxmEbr1yjB9r"
      },
      "execution_count": null,
      "outputs": []
    },
    {
      "cell_type": "code",
      "source": [
        "#Grid search for hyperparameter tuning for naive bayes\n",
        "start_time = time.time()\n",
        "nb_model = GaussianNB()\n",
        "nb_grid = GridSearchCV(nb_model, param_grid, cv=5)\n",
        "nb_grid.fit(X_train, y_train)\n",
        "best_nb_params = nb_grid.best_params_\n",
        "best_nb = nb_grid.best_estimator_\n",
        "end_time = time.time()\n",
        "runtime = end_time - start_time\n",
        "print(\"Runtime:\", runtime, \"seconds\")"
      ],
      "metadata": {
        "colab": {
          "base_uri": "https://localhost:8080/"
        },
        "outputId": "20facf0a-a348-4463-8b9c-2713c0f8ddd9",
        "id": "L4JhZlHVjB9r"
      },
      "execution_count": null,
      "outputs": [
        {
          "output_type": "stream",
          "name": "stdout",
          "text": [
            "Runtime: 0.2615671157836914 seconds\n"
          ]
        }
      ]
    },
    {
      "cell_type": "code",
      "source": [
        "#Best hyperparameter from the naive bayes\n",
        "print('{}'.format(best_nb))"
      ],
      "metadata": {
        "colab": {
          "base_uri": "https://localhost:8080/"
        },
        "outputId": "3a03ea87-531a-4f4d-911b-984b48050c9e",
        "id": "NhIQaqTqjB9s"
      },
      "execution_count": null,
      "outputs": [
        {
          "output_type": "stream",
          "name": "stdout",
          "text": [
            "GaussianNB()\n"
          ]
        }
      ]
    },
    {
      "cell_type": "code",
      "source": [
        "#NB model training\n",
        "clf_nb = GaussianNB()\n",
        "clf_nb.fit(X_train, y_train)\n",
        "nb_predictions = clf_nb.predict(X_test)"
      ],
      "metadata": {
        "id": "qDxiPRTEjB9s"
      },
      "execution_count": null,
      "outputs": []
    },
    {
      "cell_type": "code",
      "source": [
        "#Naive Bayes model evaluation\n",
        "model_evaluation(y_test,nb_predictions,labels)"
      ],
      "metadata": {
        "colab": {
          "base_uri": "https://localhost:8080/"
        },
        "outputId": "5e556d66-977b-4bce-d908-73e920b3ba3d",
        "id": "vfv9ej53jB9s"
      },
      "execution_count": null,
      "outputs": [
        {
          "output_type": "stream",
          "name": "stdout",
          "text": [
            "Accuracy: 74.75\n",
            "F1 score: 64.75647948635186\n",
            "[[256  90]\n",
            " [ 11  43]]\n"
          ]
        }
      ]
    },
    {
      "cell_type": "markdown",
      "source": [
        "## BAYESIAN METHODS\n",
        "### RVM"
      ],
      "metadata": {
        "id": "ALtC-00CjB9s"
      }
    },
    {
      "cell_type": "code",
      "source": [
        "#RVM model training\n",
        "start_time = time.time()\n",
        "rvm = RVC(kernel='linear')\n",
        "rvm.fit(X_train, y_train)\n",
        "rvm_predictions = rvm.predict(X_test)\n",
        "end_time = time.time()\n",
        "runtime = end_time - start_time\n",
        "print(\"Runtime:\", runtime, \"seconds\")"
      ],
      "metadata": {
        "colab": {
          "base_uri": "https://localhost:8080/"
        },
        "outputId": "ef8691d1-7a66-471a-9be8-3538fbfe5395",
        "id": "wjmGrrAsjB9s"
      },
      "execution_count": null,
      "outputs": [
        {
          "output_type": "stream",
          "name": "stdout",
          "text": [
            "Runtime: 201.6459710597992 seconds\n"
          ]
        }
      ]
    },
    {
      "cell_type": "code",
      "source": [
        "#RVM model evaluation\n",
        "model_evaluation(y_test,rvm_predictions,labels)"
      ],
      "metadata": {
        "colab": {
          "base_uri": "https://localhost:8080/"
        },
        "outputId": "582eba20-027e-40ac-fd8b-ed4077291f3e",
        "id": "aVBfANgAjB9s"
      },
      "execution_count": null,
      "outputs": [
        {
          "output_type": "stream",
          "name": "stdout",
          "text": [
            "Accuracy: 77.75\n",
            "F1 score: 66.61634111347631\n",
            "[[271  75]\n",
            " [ 14  40]]\n"
          ]
        }
      ]
    }
  ]
}